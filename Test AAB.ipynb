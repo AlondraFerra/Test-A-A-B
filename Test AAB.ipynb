{
 "cells": [
  {
   "cell_type": "markdown",
   "metadata": {},
   "source": [
    "# Sprint 11 Proyecto integrado 2"
   ]
  },
  {
   "cell_type": "markdown",
   "metadata": {},
   "source": [
    "# Tabla de contenidos <a id='back'></a>\n",
    "\n",
    "* [Descripción del proyecto](#Proyecto)\n",
    "    * [Instrucciones](#Instrucciones)\n",
    "    * [Introducción](#Introduccion)\n",
    "    * [Diccionario de datos generales del proyecto (SQL)](#Diccionario)\n",
    "* [Etapa 1. Descripción de los datos](#Descripcion)\n",
    "    * [Inicialización](#Inicializacion)\n",
    "* [Paso 2. Preprocesamiento de datos](#Preprocesamiento)\n",
    "* [Paso 3. Análisis exploratorio de datos (EDA)](#Analisis)\n",
    "    * [Estudio y Verificación de los Datos](#Verificación)\n",
    "    * [Embudo de eventos](#eventos)\n",
    "    * [Estudio de los resultados del experimento](#resultados)\n",
    "* [Paso 4. Conclusión](#Conclusión)"
   ]
  },
  {
   "cell_type": "markdown",
   "metadata": {},
   "source": [
    "# Descripción del proyecto<a id='Proyecto'></a>"
   ]
  },
  {
   "cell_type": "markdown",
   "metadata": {},
   "source": [
    "# Introducción<a id='Introduccion'></a>\n",
    "\n",
    "Este proyecto tiene como objetivo investigar el comportamiento de los usuarios en una aplicación de productos alimenticios, centrándose en el análisis del embudo de ventas y los resultados de un test A/A/B. El embudo de ventas nos permitirá comprender cómo los usuarios avanzan a lo largo de diferentes etapas hasta la compra final, identificando los puntos donde más usuarios abandonan el proceso. Además, el test A/A/B nos ayudará a evaluar el impacto de un cambio en las fuentes de la aplicación, comparando dos grupos de control con fuentes antiguas y un grupo de prueba con fuentes nuevas, con el fin de tomar decisiones basadas en datos sobre el diseño de la aplicación. Este análisis permitirá obtener insights clave para mejorar la conversión y la experiencia de usuario."
   ]
  },
  {
   "cell_type": "markdown",
   "metadata": {},
   "source": [
    "# Instrucciones<a id='Instrucciones'></a>\n",
    "\n",
    "Trabajas en una empresa emergente que vende productos alimenticios. Debes investigar el comportamiento del usuario para la aplicación de la empresa.\n",
    "\n",
    "Primero, estudia el embudo de ventas. Descubre cómo los usuarios y las usuarias llegan a la etapa de compra. ¿Cuántos usuarios o usuarias realmente llegan a esta etapa? ¿Cuántos se atascan en etapas anteriores? ¿Qué etapas en particular?\n",
    "\n",
    "Luego, observa los resultados de un test A/A/B. (Sigue leyendo para obtener más información sobre los test A/A/B). Al equipo de diseño le gustaría cambiar las fuentes de toda la aplicación, pero la gerencia teme que los usuarios y las usuarias piensen que el nuevo diseño es intimidante. Por ello, deciden tomar una decisión basada en los resultados de un test A/A/B.\n",
    "\n",
    "Los usuarios se dividen en tres grupos: dos grupos de control obtienen las fuentes antiguas y un grupo de prueba obtiene las nuevas. Descubre qué conjunto de fuentes produce mejores resultados.\n",
    "\n",
    "Crear dos grupos A tiene ciertas ventajas. Podemos establecer el principio de que solo confiaremos en la exactitud de nuestras pruebas cuando los dos grupos de control sean similares. Si hay diferencias significativas entre los grupos A, esto puede ayudarnos a descubrir factores que pueden estar distorsionando los resultados. La comparación de grupos de control también nos dice cuánto tiempo y datos necesitaremos cuando realicemos más tests.\n",
    "\n",
    "Utilizarás el mismo dataset para el análisis general y para el análisis A/A/B. En proyectos reales, los experimentos se llevan a cabo constantemente. El equipo de análisis estudia la calidad de una aplicación utilizando datos generales, sin prestar atención a si los usuarios y las usuarias participan en experimentos."
   ]
  },
  {
   "cell_type": "markdown",
   "metadata": {},
   "source": [
    "# Diccionario de datos<a id='Diccionario'></a>\n",
    "\n",
    "* **EventName:** nombre del evento.\n",
    "* **DeviceIDHash:** identificador de usuario unívoco.\n",
    "* **EventTimestamp:** hora del evento.\n",
    "* **ExpId:** número de experimento: 246 y 247 son los grupos de control, 248 es el grupo de prueba."
   ]
  },
  {
   "cell_type": "markdown",
   "metadata": {},
   "source": [
    "[Volver a Contenidos](#back)"
   ]
  },
  {
   "cell_type": "markdown",
   "metadata": {},
   "source": [
    "# Descripción de los datos<a id='Descripcion'></a>\n",
    "## Inicialización<a id='Inicializacion'></a>"
   ]
  },
  {
   "cell_type": "code",
   "execution_count": 1,
   "metadata": {},
   "outputs": [],
   "source": [
    "#Se importan todas las librerias necesarias:\n",
    "\n",
    "import pandas as pd\n",
    "import numpy as np\n",
    "import matplotlib.pyplot as plt\n",
    "import scipy.stats as stats\n",
    "from scipy.stats import ttest_ind\n",
    "from scipy.stats import levene\n",
    "import seaborn as sns\n",
    "from datetime import datetime\n",
    "from statsmodels.stats.proportion import proportions_ztest"
   ]
  },
  {
   "cell_type": "code",
   "execution_count": 2,
   "metadata": {},
   "outputs": [],
   "source": [
    "#Se establece una paleta de colores para todos los gráficos del proyecto\n",
    "\n",
    "sns.set_palette('pastel')"
   ]
  },
  {
   "cell_type": "code",
   "execution_count": 3,
   "metadata": {},
   "outputs": [],
   "source": [
    "#Se cargan los datos\n",
    "\n",
    "column_names = ['event_name', 'user_id', 'event_timestamp', 'exp_id']\n",
    "logs_df = pd.read_csv('/datasets/logs_exp_us.csv', sep = '\\t', names=column_names, header=0, dtype={'event_name': 'category'})"
   ]
  },
  {
   "cell_type": "code",
   "execution_count": 4,
   "metadata": {},
   "outputs": [
    {
     "name": "stdout",
     "output_type": "stream",
     "text": [
      "<class 'pandas.core.frame.DataFrame'>\n",
      "RangeIndex: 244126 entries, 0 to 244125\n",
      "Data columns (total 4 columns):\n",
      " #   Column           Non-Null Count   Dtype   \n",
      "---  ------           --------------   -----   \n",
      " 0   event_name       244126 non-null  category\n",
      " 1   user_id          244126 non-null  int64   \n",
      " 2   event_timestamp  244126 non-null  int64   \n",
      " 3   exp_id           244126 non-null  int64   \n",
      "dtypes: category(1), int64(3)\n",
      "memory usage: 5.8 MB\n"
     ]
    }
   ],
   "source": [
    "#Se muestra la información general de cada DataFrame\n",
    "\n",
    "logs_df.info()"
   ]
  },
  {
   "cell_type": "code",
   "execution_count": 5,
   "metadata": {
    "scrolled": true
   },
   "outputs": [
    {
     "data": {
      "text/html": [
       "<div>\n",
       "<style scoped>\n",
       "    .dataframe tbody tr th:only-of-type {\n",
       "        vertical-align: middle;\n",
       "    }\n",
       "\n",
       "    .dataframe tbody tr th {\n",
       "        vertical-align: top;\n",
       "    }\n",
       "\n",
       "    .dataframe thead th {\n",
       "        text-align: right;\n",
       "    }\n",
       "</style>\n",
       "<table border=\"1\" class=\"dataframe\">\n",
       "  <thead>\n",
       "    <tr style=\"text-align: right;\">\n",
       "      <th></th>\n",
       "      <th>event_name</th>\n",
       "      <th>user_id</th>\n",
       "      <th>event_timestamp</th>\n",
       "      <th>exp_id</th>\n",
       "    </tr>\n",
       "  </thead>\n",
       "  <tbody>\n",
       "    <tr>\n",
       "      <th>0</th>\n",
       "      <td>MainScreenAppear</td>\n",
       "      <td>4575588528974610257</td>\n",
       "      <td>1564029816</td>\n",
       "      <td>246</td>\n",
       "    </tr>\n",
       "    <tr>\n",
       "      <th>1</th>\n",
       "      <td>MainScreenAppear</td>\n",
       "      <td>7416695313311560658</td>\n",
       "      <td>1564053102</td>\n",
       "      <td>246</td>\n",
       "    </tr>\n",
       "    <tr>\n",
       "      <th>2</th>\n",
       "      <td>PaymentScreenSuccessful</td>\n",
       "      <td>3518123091307005509</td>\n",
       "      <td>1564054127</td>\n",
       "      <td>248</td>\n",
       "    </tr>\n",
       "    <tr>\n",
       "      <th>3</th>\n",
       "      <td>CartScreenAppear</td>\n",
       "      <td>3518123091307005509</td>\n",
       "      <td>1564054127</td>\n",
       "      <td>248</td>\n",
       "    </tr>\n",
       "    <tr>\n",
       "      <th>4</th>\n",
       "      <td>PaymentScreenSuccessful</td>\n",
       "      <td>6217807653094995999</td>\n",
       "      <td>1564055322</td>\n",
       "      <td>248</td>\n",
       "    </tr>\n",
       "  </tbody>\n",
       "</table>\n",
       "</div>"
      ],
      "text/plain": [
       "                event_name              user_id  event_timestamp  exp_id\n",
       "0         MainScreenAppear  4575588528974610257       1564029816     246\n",
       "1         MainScreenAppear  7416695313311560658       1564053102     246\n",
       "2  PaymentScreenSuccessful  3518123091307005509       1564054127     248\n",
       "3         CartScreenAppear  3518123091307005509       1564054127     248\n",
       "4  PaymentScreenSuccessful  6217807653094995999       1564055322     248"
      ]
     },
     "execution_count": 5,
     "metadata": {},
     "output_type": "execute_result"
    }
   ],
   "source": [
    "#Se imprimen las primeras 5 lienas del DataFrame\n",
    "\n",
    "logs_df.head()"
   ]
  },
  {
   "cell_type": "code",
   "execution_count": 6,
   "metadata": {
    "scrolled": false
   },
   "outputs": [
    {
     "name": "stdout",
     "output_type": "stream",
     "text": [
      "Duplicados en los datos del DataFrame: 413\n"
     ]
    }
   ],
   "source": [
    "#Se calcula la cantidad de duplicados de cada DF\n",
    "\n",
    "print('Duplicados en los datos del DataFrame:', logs_df.duplicated().sum())"
   ]
  },
  {
   "cell_type": "markdown",
   "metadata": {},
   "source": [
    "Durante la revisión inicial de los datos se determino un mejor nombre para las columnas del DataFrame, y se cambio el tipo de datos de la columna event_name a categorico, se mantiene el tipo entero en la columna exp_id para usos futuros; con el fin de mejorar la eficiencia en su manejo este es el nombre de cada columna:\n",
    "\n",
    "* EventName - **event_name** (nombre del evento)\n",
    "* DeviceIDHash - **user_id** (identificador de usuario unívoco)\n",
    "* EventTimestamp - **event_time** (hora del evento)\n",
    "* ExpId: número de experimento - **exp_id** (246 y 247 son los grupos de control, 248 es el grupo de prueba)\n",
    "\n",
    "Con el fin de optimizar el manejo de los datos se determinaron ciertos cambios aplicables en la siguiente etapa:\n",
    "\n",
    "* Abordar los datos duplicados del DataFrame.\n",
    "* Cambiar el tipo de dato de la columna event_time al tipo fecha."
   ]
  },
  {
   "cell_type": "markdown",
   "metadata": {},
   "source": [
    "[Volver a Contenidos](#back)"
   ]
  },
  {
   "cell_type": "markdown",
   "metadata": {},
   "source": [
    "## Preprocesamiento de datos<a id='Preprocesamiento'></a>"
   ]
  },
  {
   "cell_type": "code",
   "execution_count": 7,
   "metadata": {},
   "outputs": [
    {
     "name": "stdout",
     "output_type": "stream",
     "text": [
      "                     event_name              user_id  event_timestamp  exp_id\n",
      "453            MainScreenAppear  5613408041324010552       1564474784     248\n",
      "2350           CartScreenAppear  1694940645335807244       1564609899     248\n",
      "3573           MainScreenAppear   434103746454591587       1564628377     248\n",
      "4076           MainScreenAppear  3761373764179762633       1564631266     247\n",
      "4803           MainScreenAppear  2835328739789306622       1564634641     248\n",
      "...                         ...                  ...              ...     ...\n",
      "242329         MainScreenAppear  8870358373313968633       1565206004     247\n",
      "242332  PaymentScreenSuccessful  4718002964983105693       1565206005     247\n",
      "242360  PaymentScreenSuccessful  2382591782303281935       1565206049     246\n",
      "242362         CartScreenAppear  2382591782303281935       1565206049     246\n",
      "242635         MainScreenAppear  4097782667445790512       1565206618     246\n",
      "\n",
      "[413 rows x 4 columns]\n"
     ]
    }
   ],
   "source": [
    "#Se verifica la información duplicada\n",
    "#Se entiende que no hay un patrón en ninguna de las columnas de los datos duplicados, por lo que se decide eliminarlos.\n",
    "\n",
    "print(logs_df[logs_df.duplicated()])"
   ]
  },
  {
   "cell_type": "code",
   "execution_count": 8,
   "metadata": {},
   "outputs": [
    {
     "name": "stdout",
     "output_type": "stream",
     "text": [
      "La cantidad de duplicados en los datos del DataFrame despues de la corrección es: 0\n"
     ]
    }
   ],
   "source": [
    "#Se eliminan los datos duplicados\n",
    "\n",
    "logs_df.drop_duplicates(inplace=True)\n",
    "\n",
    "print('La cantidad de duplicados en los datos del DataFrame despues de la corrección es:', logs_df.duplicated().sum())"
   ]
  },
  {
   "cell_type": "code",
   "execution_count": 9,
   "metadata": {},
   "outputs": [
    {
     "name": "stdout",
     "output_type": "stream",
     "text": [
      "                event_name              user_id     event_timestamp  exp_id  \\\n",
      "0         MainScreenAppear  4575588528974610257 2019-07-25 04:43:36     246   \n",
      "1         MainScreenAppear  7416695313311560658 2019-07-25 11:11:42     246   \n",
      "2  PaymentScreenSuccessful  3518123091307005509 2019-07-25 11:28:47     248   \n",
      "3         CartScreenAppear  3518123091307005509 2019-07-25 11:28:47     248   \n",
      "4  PaymentScreenSuccessful  6217807653094995999 2019-07-25 11:48:42     248   \n",
      "\n",
      "       time        date  \n",
      "0  04:43:36  2019-07-25  \n",
      "1  11:11:42  2019-07-25  \n",
      "2  11:28:47  2019-07-25  \n",
      "3  11:28:47  2019-07-25  \n",
      "4  11:48:42  2019-07-25  \n"
     ]
    }
   ],
   "source": [
    "#Se convierte la columna event_time especificando que el formato de tiempo es en segundos.\n",
    "#Se crea la columna time para contener la hora de cada evento\n",
    "#Se crea la columna date para contener la fecha de cada evento\n",
    "\n",
    "logs_df['event_timestamp'] = pd.to_datetime(logs_df['event_timestamp'], unit='s')\n",
    "logs_df['time'] = logs_df['event_timestamp'].dt.time\n",
    "logs_df['date'] = logs_df['event_timestamp'].dt.date\n",
    "\n",
    "print(logs_df.head())"
   ]
  },
  {
   "cell_type": "markdown",
   "metadata": {},
   "source": [
    "Luego de realizar las correcciones que se habían detectado, se ha confirmado que los tipos de datos de los DataFrames son adecuados y coherentes con la información contenida en las tablas. Esta validación asegura que los datos están correctamente estructurados y listos para ser utilizados en los análisis posteriores."
   ]
  },
  {
   "cell_type": "markdown",
   "metadata": {},
   "source": [
    "[Volver a Contenidos](#back)"
   ]
  },
  {
   "cell_type": "markdown",
   "metadata": {},
   "source": [
    "## Análisis exploratorio de datos (EDA)<a id='Analisis'></a>"
   ]
  },
  {
   "cell_type": "markdown",
   "metadata": {},
   "source": [
    "### Estudio y Verificación de los Datos<a id='Verificación'></a>\n",
    "\n",
    "Luego de analizar el conjunto de datos, se identificó que los registros correspondientes al periodo entre el 25 y el 31 de julio de 2019 son insuficientes para llevar a cabo un análisis fiable. Por este motivo, se procedió a eliminar estos datos incompletos.\n",
    "\n",
    "* El total de eventos eliminados fue de 2,826.\n",
    "* El total de usuarios eliminados fue de 17.\n",
    "* En total, se eliminaron 5 usuarios del grupo 246, 7 del grupo 247 y 5 del grupo 248. \n",
    "\n",
    "Se observa que los datos eliminados no representan una perdida significativa. Estos ajustes aseguran que los datos restantes sean más consistentes y adecuados para el análisis posterior."
   ]
  },
  {
   "cell_type": "code",
   "execution_count": 10,
   "metadata": {},
   "outputs": [],
   "source": [
    "#Se calcula el número total de eventos\n",
    "total_events = logs_df.shape[0]\n",
    "\n",
    "#Se calcula el número total de usuarios\n",
    "total_users = logs_df['user_id'].nunique()\n",
    "\n",
    "#Se calcula el promedio de eventos por usuario\n",
    "mean_events_users = total_events / total_users\n",
    "\n",
    "#Se calcula la fecha mínima y máxima del DataFrame\n",
    "min_date = logs_df['date'].min()\n",
    "max_date = logs_df['date'].max()"
   ]
  },
  {
   "cell_type": "code",
   "execution_count": 11,
   "metadata": {},
   "outputs": [
    {
     "name": "stdout",
     "output_type": "stream",
     "text": [
      "\n",
      "Número total de eventos: 243713\n",
      "Número total de usuarios: 7551\n",
      "Promedio de eventos por usuario: 32.28\n",
      "Fecha mínima del DataFrame: 2019-07-25\n",
      "Fecha máxima del DataFrame: 2019-08-07\n",
      "\n"
     ]
    }
   ],
   "source": [
    "print(f\"\"\"\n",
    "Número total de eventos: {total_events}\n",
    "Número total de usuarios: {total_users}\n",
    "Promedio de eventos por usuario: {mean_events_users:.2f}\n",
    "Fecha mínima del DataFrame: {min_date}\n",
    "Fecha máxima del DataFrame: {max_date}\n",
    "\"\"\")"
   ]
  },
  {
   "cell_type": "code",
   "execution_count": 12,
   "metadata": {
    "scrolled": true
   },
   "outputs": [
    {
     "data": {
      "image/png": "[encoded data removed]",
      "text/plain": [
       "<Figure size 1000x600 with 1 Axes>"
      ]
     },
     "metadata": {},
     "output_type": "display_data"
    }
   ],
   "source": [
    "#Se representa gráficamente el histograma de eventos por fecha\n",
    "\n",
    "plt.figure(figsize=(10,6))\n",
    "sns.histplot(logs_df['date'], bins=50, kde=False)\n",
    "plt.title('El periodo relevante es a partir del 01/08/2019', fontsize=16)\n",
    "plt.suptitle('Distribución de eventos por fecha', fontsize=12, y=.87)\n",
    "plt.xlabel('Fecha', fontsize=14)\n",
    "plt.ylabel('Cantidad de eventos', fontsize=14)\n",
    "plt.xticks(rotation=45)\n",
    "plt.tight_layout()\n",
    "plt.show()"
   ]
  },
  {
   "cell_type": "code",
   "execution_count": 13,
   "metadata": {},
   "outputs": [],
   "source": [
    "#Se filtra el DataFrame para incluir solo datos desde la fecha límite\n",
    "\n",
    "limit_date = datetime.strptime('2019-08-01', '%Y-%m-%d').date()\n",
    "filtered_logs = logs_df[logs_df['date'] >= limit_date]"
   ]
  },
  {
   "cell_type": "code",
   "execution_count": 14,
   "metadata": {},
   "outputs": [],
   "source": [
    "#Se calcula el total de eventos luego de la limpieza\n",
    "total_events_clean = filtered_logs.shape[0]\n",
    "\n",
    "#Se calcula el total de usuarios luego de la limpieza\n",
    "total_users_clean = filtered_logs['user_id'].nunique()\n",
    "\n",
    "#Se calcula la fecha mínima y máxima del DataFrame despues de la limpieza\n",
    "min_date_clean = filtered_logs['date'].min()\n",
    "max_date_clean = filtered_logs['date'].max()\n",
    "\n",
    "#Se calcula la cantidad de usuarios por grupo antes de la limpieza\n",
    "users_per_group = logs_df.groupby('exp_id')['user_id'].nunique()\n",
    "\n",
    "#Se calcula la cantidad de usuarios por grupo despues de la limpieza\n",
    "users_per_group_clean = filtered_logs.groupby('exp_id')['user_id'].nunique()"
   ]
  },
  {
   "cell_type": "code",
   "execution_count": 15,
   "metadata": {
    "scrolled": true
   },
   "outputs": [
    {
     "name": "stdout",
     "output_type": "stream",
     "text": [
      "\n",
      "Total de eventos eliminados con la limpieza: 2826\n",
      "Total de usuarios eliminados con la limpieza: 17\n",
      "Fecha mínima del DataFrame despues de la limpieza: 2019-08-01\n",
      "Fecha máxima del DataFrame despues de la limpieza: 2019-08-07\n",
      "La cantidad de usuarios por grupo que se emilinaron es: exp_id\n",
      "246    5\n",
      "247    7\n",
      "248    5\n",
      "Name: user_id, dtype: int64\n",
      "\n"
     ]
    }
   ],
   "source": [
    "print(f\"\"\"\n",
    "Total de eventos eliminados con la limpieza: {total_events - total_events_clean}\n",
    "Total de usuarios eliminados con la limpieza: {total_users - total_users_clean}\n",
    "Fecha mínima del DataFrame despues de la limpieza: {min_date_clean}\n",
    "Fecha máxima del DataFrame despues de la limpieza: {max_date_clean}\n",
    "La cantidad de usuarios por grupo que se emilinaron es: {users_per_group - users_per_group_clean}\n",
    "\"\"\")"
   ]
  },
  {
   "cell_type": "markdown",
   "metadata": {},
   "source": [
    "[Volver a Contenidos](#back)"
   ]
  },
  {
   "cell_type": "markdown",
   "metadata": {},
   "source": [
    "### Embudo de eventos<a id='eventos'></a>\n",
    "\n",
    "Luego de analizar los datos, observamos que el evento más frecuente es **MainScreenAppear con 117,328 registros**, seguido de OffersScreenAppear y CartScreenAppear. Sin embargo, solo un **46.97% de los usuarios completaron todo el viaje** hasta PaymentScreenSuccessful. Se entiende que el tutorial es opcional y no forma parte del embudo, mientras que el orden del embudo es determinado por la cantidad de usuarios en cada paso.\n",
    "\n",
    "El análisis de las proporciones muestra que:\n",
    "\n",
    "* El **98.47%** de los usuarios accede a la pantalla principal (**MainScreenAppear**).\n",
    "* Un **60.96%** continúa a la pantalla de ofertas (**OffersScreenAppear**).\n",
    "* El **49.56%** llega a la pantalla del carrito (**CartScreenAppear**).\n",
    "* Finalmente, un **46.97%** completa el proceso de pago exitoso (**PaymentScreenSuccessful**).\n",
    "\n",
    "El embudo de conversión refleja que la **mayor pérdida de usuarios ocurre entre la pantalla principal y la de ofertas**, con un **61.91%** de usuarios pasando de una etapa a la otra. Sin embargo, la conversión entre las siguientes etapas mejora, alcanzando un **94.78% entre la pantalla del carrito y el pago exitoso**."
   ]
  },
  {
   "cell_type": "code",
   "execution_count": 16,
   "metadata": {
    "scrolled": false
   },
   "outputs": [
    {
     "name": "stdout",
     "output_type": "stream",
     "text": [
      "Cantidad de eventos registrados en el DataFrame:\n",
      " MainScreenAppear           117328\n",
      "OffersScreenAppear          46333\n",
      "CartScreenAppear            42303\n",
      "PaymentScreenSuccessful     33918\n",
      "Tutorial                     1005\n",
      "Name: event_name, dtype: int64\n"
     ]
    }
   ],
   "source": [
    "#Se calcula la cantidad de eventos registrados en el DataFrame\n",
    "\n",
    "event_frequency = filtered_logs['event_name'].value_counts()\n",
    "print('Cantidad de eventos registrados en el DataFrame:\\n', event_frequency)"
   ]
  },
  {
   "cell_type": "code",
   "execution_count": 17,
   "metadata": {
    "scrolled": true
   },
   "outputs": [
    {
     "name": "stdout",
     "output_type": "stream",
     "text": [
      "Cantidad de usuarios por evento:\n",
      " event_name\n",
      "MainScreenAppear           7419\n",
      "OffersScreenAppear         4593\n",
      "CartScreenAppear           3734\n",
      "PaymentScreenSuccessful    3539\n",
      "Tutorial                    840\n",
      "Name: user_id, dtype: int64\n"
     ]
    }
   ],
   "source": [
    "#Se calcula la cantidad de usuarios por evento\n",
    "\n",
    "users_per_event = filtered_logs.groupby('event_name')['user_id'].nunique().sort_values(ascending=False)\n",
    "print('Cantidad de usuarios por evento:\\n' ,users_per_event)"
   ]
  },
  {
   "cell_type": "code",
   "execution_count": 18,
   "metadata": {
    "scrolled": true
   },
   "outputs": [
    {
     "name": "stdout",
     "output_type": "stream",
     "text": [
      "Proporción de usuarios que realizaron cada evento al menos una vez:\n",
      " event_name\n",
      "MainScreenAppear           98.47\n",
      "OffersScreenAppear         60.96\n",
      "CartScreenAppear           49.56\n",
      "PaymentScreenSuccessful    46.97\n",
      "Tutorial                   11.15\n",
      "Name: user_id, dtype: float64\n"
     ]
    }
   ],
   "source": [
    "#Se calcula la proporción de usuarios que realizaron cada evento al menos una vez\n",
    "\n",
    "proportion_per_event = (users_per_event / total_users_clean) * 100\n",
    "print('Proporción de usuarios que realizaron cada evento al menos una vez:\\n', proportion_per_event.round(2))"
   ]
  },
  {
   "cell_type": "code",
   "execution_count": 19,
   "metadata": {
    "scrolled": true
   },
   "outputs": [
    {
     "name": "stdout",
     "output_type": "stream",
     "text": [
      "Proporción de usuarios que pasan de MainScreenAppear a OffersScreenAppear: 61.91%\n",
      "Proporción de usuarios que pasan de OffersScreenAppear a CartScreenAppear: 81.30%\n",
      "Proporción de usuarios que pasan de CartScreenAppear a PaymentScreenSuccessful: 94.78%\n"
     ]
    }
   ],
   "source": [
    "#Se calcula la proporción de usuarios entre etapas\n",
    "\n",
    "events_order = ['MainScreenAppear', 'OffersScreenAppear', 'CartScreenAppear', 'PaymentScreenSuccessful']\n",
    "for i in range(1, len(events_order)):\n",
    "    users_stage_current = filtered_logs[filtered_logs['event_name'] == events_order[i-1]]['user_id'].nunique()\n",
    "    users_stage_next = filtered_logs[filtered_logs['event_name'] == events_order[i]]['user_id'].nunique()\n",
    "    conversion_rate = (users_stage_next / users_stage_current) * 100\n",
    "    print(f\"Proporción de usuarios que pasan de {events_order[i-1]} a {events_order[i]}: {conversion_rate:.2f}%\")"
   ]
  },
  {
   "cell_type": "code",
   "execution_count": 20,
   "metadata": {
    "scrolled": true
   },
   "outputs": [
    {
     "name": "stdout",
     "output_type": "stream",
     "text": [
      "Porcentaje de usuarios que completan todo el viaje: 46.97%\n"
     ]
    }
   ],
   "source": [
    "#Se calcula la proporción de usuarios que completan todo el viaje\n",
    "\n",
    "total_completed_journey = filtered_logs[filtered_logs['event_name'] == 'PaymentScreenSuccessful']['user_id'].nunique()\n",
    "journey_completion_rate = (total_completed_journey / total_users_clean) * 100\n",
    "print(f\"Porcentaje de usuarios que completan todo el viaje: {journey_completion_rate:.2f}%\")"
   ]
  },
  {
   "cell_type": "markdown",
   "metadata": {},
   "source": [
    "[Volver a Contenidos](#back)"
   ]
  },
  {
   "cell_type": "markdown",
   "metadata": {},
   "source": [
    "### Estudio de los resultados del experimento<a id='resultados'></a>\n",
    "\n",
    "Luego de realizar un análisis detallado de los grupos de usuarios en los tests A/A (grupos 246 vs 247) y A/B (grupos 246 vs 248 y 247 vs 248). Se investigaron las proporciones de usuarios que realizaron diferentes eventos clave, aplicando tanto un nivel de significancia estándar como uno ajustado con la corrección de Bonferroni.\n",
    "\n",
    "* **Test A/A (Grupos 246 y 247):** No se encontraron diferencias estadísticamente significativas en ninguna de las comparaciones entre los grupos de control, tanto a nivel de participación general como en los eventos individuales. Esto **confirma la correcta aleatorización de los grupos en el test**.\n",
    "\n",
    "* **Test A/B (Grupos 246 vs 248 y 247 vs 248):** Las comparaciones entre los grupos de control y el grupo experimental no revelaron diferencias estadísticamente significativas en ninguno de los eventos analizados, incluso tras aplicar la corrección de Bonferroni. El ajuste del nivel de significancia no alteró estas conclusiones, sugiriendo que **las modificaciones probadas en el test no impactaron significativamente en el comportamiento de los usuarios**.\n",
    "\n",
    "En resumen, tanto los tests A/A como A/B indicaron que no hubo diferencias significativas entre los grupos, lo que sugiere que los cambios introducidos no tuvieron un efecto claro sobre las métricas observadas."
   ]
  },
  {
   "cell_type": "markdown",
   "metadata": {},
   "source": [
    "**Usuarios de cada grupo**"
   ]
  },
  {
   "cell_type": "code",
   "execution_count": 21,
   "metadata": {},
   "outputs": [
    {
     "name": "stdout",
     "output_type": "stream",
     "text": [
      "Cantidad de usuarios que participaron en cada grupo:\n",
      " exp_id\n",
      "246    2484\n",
      "247    2513\n",
      "248    2537\n",
      "Name: user_id, dtype: int64\n"
     ]
    }
   ],
   "source": [
    "print('Cantidad de usuarios que participaron en cada grupo:\\n' ,users_per_group_clean)"
   ]
  },
  {
   "cell_type": "markdown",
   "metadata": {},
   "source": [
    "**Comparación de proporciones entre los grupos de control en el test A/A (246 y 247)**"
   ]
  },
  {
   "cell_type": "code",
   "execution_count": 22,
   "metadata": {},
   "outputs": [
    {
     "name": "stdout",
     "output_type": "stream",
     "text": [
      "Estadístico z: -0.5801740783391729\n",
      "Valor p: 0.5617972322745155\n",
      "No hay una diferencia estadísticamente significativa entre las proporciones de usuarios en los grupos 246 y 247.\n"
     ]
    }
   ],
   "source": [
    "#Se cuenta la cantidad de usuarios únicos en cada grupo\n",
    "total_users_group_a = filtered_logs[filtered_logs['exp_id'] == 246]['user_id'].nunique()\n",
    "total_users_group_b = filtered_logs[filtered_logs['exp_id'] == 247]['user_id'].nunique()\n",
    "\n",
    "#Se aplica la prueba z para comparar proporciones entre los dos grupos\n",
    "count_ab_proportion = [total_users_group_a, total_users_group_b]\n",
    "nobs_ab_proportion = [total_users_group_a + total_users_group_b, total_users_group_a + total_users_group_b]\n",
    "\n",
    "z_stat, p_value = proportions_ztest(count_ab_proportion, nobs_ab_proportion)\n",
    "\n",
    "print(f\"Estadístico z: {z_stat}\")\n",
    "print(f\"Valor p: {p_value}\")\n",
    "\n",
    "if p_value < 0.05:\n",
    "    print(\"Hay una diferencia estadísticamente significativa entre las proporciones de usuarios en los grupos 246 y 247.\")\n",
    "else:\n",
    "    print(\"No hay una diferencia estadísticamente significativa entre las proporciones de usuarios en los grupos 246 y 247.\")"
   ]
  },
  {
   "cell_type": "markdown",
   "metadata": {},
   "source": [
    "**Análisis del evento más frecuente entre los grupos de control en el test A/A (246 vs 247)**"
   ]
  },
  {
   "cell_type": "code",
   "execution_count": 23,
   "metadata": {},
   "outputs": [
    {
     "name": "stdout",
     "output_type": "stream",
     "text": [
      "El evento más popular es: MainScreenAppear\n"
     ]
    }
   ],
   "source": [
    "#Se encuentra el evento más popular\n",
    "\n",
    "most_popular_event = filtered_logs['event_name'].value_counts().idxmax()\n",
    "print(f\"El evento más popular es: {most_popular_event}\")"
   ]
  },
  {
   "cell_type": "code",
   "execution_count": 24,
   "metadata": {},
   "outputs": [],
   "source": [
    "#Se definen los grupos\n",
    "\n",
    "group_a = 246\n",
    "group_b = 247\n",
    "group_c = 248"
   ]
  },
  {
   "cell_type": "code",
   "execution_count": 25,
   "metadata": {
    "scrolled": true
   },
   "outputs": [
    {
     "name": "stdout",
     "output_type": "stream",
     "text": [
      "Proporción de usuarios del grupo 246 que realizaron el evento más popular: 98.63%\n",
      "Proporción de usuarios del grupo 247 que realizaron el evento más popular: 98.53%\n",
      "Estadístico z: 0.3093441851418436\n",
      "Valor p: 0.7570597232046099\n",
      "No hay una diferencia estadísticamente significativa entre los grupos.\n"
     ]
    }
   ],
   "source": [
    "#Se encuentra la cantidad de usuarios que realizaron el evento más popular en cada grupo de control\n",
    "\n",
    "#Se filtra el evento más popular para cada grupo\n",
    "users_group_a_event = filtered_logs[(filtered_logs['exp_id'] == group_a) & \n",
    "                                    (filtered_logs['event_name'] == most_popular_event)]['user_id'].nunique()\n",
    "users_group_b_event = filtered_logs[(filtered_logs['exp_id'] == group_b) & \n",
    "                                    (filtered_logs['event_name'] == most_popular_event)]['user_id'].nunique()\n",
    "\n",
    "#Se calcula la proporción de usuarios en cada grupo que realizaron el evento más popular\n",
    "proportion_group_a_event = users_group_a_event / total_users_group_a\n",
    "proportion_group_b_event = users_group_b_event / total_users_group_b\n",
    "\n",
    "print(f\"Proporción de usuarios del grupo {group_a} que realizaron el evento más popular: {proportion_group_a_event:.2%}\")\n",
    "print(f\"Proporción de usuarios del grupo {group_b} que realizaron el evento más popular: {proportion_group_b_event:.2%}\")\n",
    "\n",
    "count_ab_popular = [users_group_a_event, users_group_b_event]\n",
    "nobs_ab_popular = [total_users_group_a, total_users_group_b]\n",
    "\n",
    "# Realizar la prueba z para dos proporciones\n",
    "z_stat, p_value = proportions_ztest(count_ab_popular, nobs_ab_popular)\n",
    "\n",
    "print(f\"Estadístico z: {z_stat}\")\n",
    "print(f\"Valor p: {p_value}\")\n",
    "\n",
    "if p_value < 0.05:\n",
    "    print(\"Hay una diferencia estadísticamente significativa entre los grupos.\")\n",
    "else:\n",
    "    print(\"No hay una diferencia estadísticamente significativa entre los grupos.\")"
   ]
  },
  {
   "cell_type": "markdown",
   "metadata": {},
   "source": [
    "**Análisis comparativo de cada evento entre los grupos de control en el test A/A**"
   ]
  },
  {
   "cell_type": "code",
   "execution_count": 26,
   "metadata": {
    "scrolled": true
   },
   "outputs": [
    {
     "name": "stdout",
     "output_type": "stream",
     "text": [
      "Análisis comparativo de cada evento entre los grupos de control en el test A/A\n",
      "\n",
      "Evento: Tutorial\n",
      "Proporción grupo 246: 11.19%\n",
      "Proporción grupo 247: 11.26%\n",
      "Estadístico z: -0.08, Valor p: 0.9377\n",
      "No hay una diferencia estadísticamente significativa entre los grupos.\n",
      "\n",
      "Evento: MainScreenAppear\n",
      "Proporción grupo 246: 98.63%\n",
      "Proporción grupo 247: 98.53%\n",
      "Estadístico z: 0.31, Valor p: 0.7571\n",
      "No hay una diferencia estadísticamente significativa entre los grupos.\n",
      "\n",
      "Evento: OffersScreenAppear\n",
      "Proporción grupo 246: 62.08%\n",
      "Proporción grupo 247: 60.49%\n",
      "Estadístico z: 1.15, Valor p: 0.2481\n",
      "No hay una diferencia estadísticamente significativa entre los grupos.\n",
      "\n",
      "Evento: CartScreenAppear\n",
      "Proporción grupo 246: 50.97%\n",
      "Proporción grupo 247: 49.26%\n",
      "Estadístico z: 1.20, Valor p: 0.2288\n",
      "No hay una diferencia estadísticamente significativa entre los grupos.\n",
      "\n",
      "Evento: PaymentScreenSuccessful\n",
      "Proporción grupo 246: 48.31%\n",
      "Proporción grupo 247: 46.08%\n",
      "Estadístico z: 1.58, Valor p: 0.1146\n",
      "No hay una diferencia estadísticamente significativa entre los grupos.\n"
     ]
    }
   ],
   "source": [
    "#Se define la función para encontrar la proporción de usuarios para cada evento\n",
    "#Se define la función para encontrar si existe una diferencia estadísticamente significativa entre los grupos para cada evento\n",
    "\n",
    "print('Análisis comparativo de cada evento entre los grupos de control en el test A/A')\n",
    "\n",
    "def compare_events(filtered_logs, group_a, group_b):\n",
    "    \n",
    "    events = filtered_logs['event_name'].unique()\n",
    "\n",
    "    for event in events:\n",
    "        \n",
    "        #Se cuentan los usuarios que realizaron el evento en cada grupo\n",
    "        users_group_a_event = filtered_logs[(filtered_logs['exp_id'] == group_a) & \n",
    "                                            (filtered_logs['event_name'] == event)]['user_id'].nunique()\n",
    "        users_group_b_event = filtered_logs[(filtered_logs['exp_id'] == group_b) & \n",
    "                                            (filtered_logs['event_name'] == event)]['user_id'].nunique()\n",
    "\n",
    "        #Se calcula el total de usuarios en cada grupo\n",
    "        total_users_group_a = filtered_logs[filtered_logs['exp_id'] == group_a]['user_id'].nunique()\n",
    "        total_users_group_b = filtered_logs[filtered_logs['exp_id'] == group_b]['user_id'].nunique()\n",
    "\n",
    "        #Se calculan las proporciones\n",
    "        proportion_group_a_event = users_group_a_event / total_users_group_a\n",
    "        proportion_group_b_event = users_group_b_event / total_users_group_b\n",
    "\n",
    "        #Se aplica la prueba z para dos proporciones\n",
    "        count_ab = [users_group_a_event, users_group_b_event]\n",
    "        nobs_ab = [total_users_group_a, total_users_group_b]\n",
    "        z_stat, p_value = proportions_ztest(count_ab, nobs_ab)\n",
    "\n",
    "        # Resultados\n",
    "        print(f\"\\nEvento: {event}\")\n",
    "        print(f\"Proporción grupo {group_a}: {proportion_group_a_event:.2%}\")\n",
    "        print(f\"Proporción grupo {group_b}: {proportion_group_b_event:.2%}\")\n",
    "        print(f\"Estadístico z: {z_stat:.2f}, Valor p: {p_value:.4f}\")\n",
    "\n",
    "        if p_value < 0.05:\n",
    "            print(\"Hay una diferencia estadísticamente significativa entre los grupos.\")\n",
    "        else:\n",
    "            print(\"No hay una diferencia estadísticamente significativa entre los grupos.\")\n",
    "\n",
    "compare_events(filtered_logs, group_a, group_b)"
   ]
  },
  {
   "cell_type": "markdown",
   "metadata": {},
   "source": [
    "**Análisis comparativo de cada evento entre los grupos en el test A/B (246 y 248)**"
   ]
  },
  {
   "cell_type": "code",
   "execution_count": 27,
   "metadata": {},
   "outputs": [
    {
     "name": "stdout",
     "output_type": "stream",
     "text": [
      "Análisis comparativo de cada evento entre los grupos en el test A/B (246 y 248)\n",
      "\n",
      "Evento: Tutorial\n",
      "Proporción grupo 246: 11.19%\n",
      "Proporción grupo 248: 11.00%\n",
      "Estadístico z: 0.22, Valor p: 0.8264\n",
      "No hay una diferencia estadísticamente significativa entre los grupos.\n",
      "\n",
      "Evento: MainScreenAppear\n",
      "Proporción grupo 246: 98.63%\n",
      "Proporción grupo 248: 98.27%\n",
      "Estadístico z: 1.05, Valor p: 0.2950\n",
      "No hay una diferencia estadísticamente significativa entre los grupos.\n",
      "\n",
      "Evento: OffersScreenAppear\n",
      "Proporción grupo 246: 62.08%\n",
      "Proporción grupo 248: 60.35%\n",
      "Estadístico z: 1.26, Valor p: 0.2084\n",
      "No hay una diferencia estadísticamente significativa entre los grupos.\n",
      "\n",
      "Evento: CartScreenAppear\n",
      "Proporción grupo 246: 50.97%\n",
      "Proporción grupo 248: 48.48%\n",
      "Estadístico z: 1.76, Valor p: 0.0784\n",
      "No hay una diferencia estadísticamente significativa entre los grupos.\n",
      "\n",
      "Evento: PaymentScreenSuccessful\n",
      "Proporción grupo 246: 48.31%\n",
      "Proporción grupo 248: 46.55%\n",
      "Estadístico z: 1.25, Valor p: 0.2123\n",
      "No hay una diferencia estadísticamente significativa entre los grupos.\n"
     ]
    }
   ],
   "source": [
    "#Se define la función para encontrar la proporción de usuarios para cada evento\n",
    "#Se define la función para encontrar si existe una diferencia estadísticamente significativa entre los grupos para cada evento\n",
    "\n",
    "print('Análisis comparativo de cada evento entre los grupos en el test A/B (246 y 248)')\n",
    "\n",
    "def compare_events(filtered_logs, group_a, group_c):\n",
    "    \n",
    "    events = filtered_logs['event_name'].unique()\n",
    "\n",
    "    for event in events:\n",
    "        \n",
    "        #Se cuentan los usuarios que realizaron el evento en cada grupo\n",
    "        users_group_a_event = filtered_logs[(filtered_logs['exp_id'] == group_a) & \n",
    "                                            (filtered_logs['event_name'] == event)]['user_id'].nunique()\n",
    "        users_group_c_event = filtered_logs[(filtered_logs['exp_id'] == group_c) & \n",
    "                                            (filtered_logs['event_name'] == event)]['user_id'].nunique()\n",
    "\n",
    "        #Se calcula el total de usuarios en cada grupo\n",
    "        total_users_group_a = filtered_logs[filtered_logs['exp_id'] == group_a]['user_id'].nunique()\n",
    "        total_users_group_c = filtered_logs[filtered_logs['exp_id'] == group_c]['user_id'].nunique()\n",
    "\n",
    "        #Se calculan las proporciones\n",
    "        proportion_group_a_event = users_group_a_event / total_users_group_a\n",
    "        proportion_group_c_event = users_group_c_event / total_users_group_c\n",
    "\n",
    "        #Se aplica la prueba z para dos proporciones\n",
    "        count_ac = [users_group_a_event, users_group_c_event]\n",
    "        nobs_ac = [total_users_group_a, total_users_group_c]\n",
    "        z_stat, p_value = proportions_ztest(count_ac, nobs_ac)\n",
    "\n",
    "        # Resultados\n",
    "        print(f\"\\nEvento: {event}\")\n",
    "        print(f\"Proporción grupo {group_a}: {proportion_group_a_event:.2%}\")\n",
    "        print(f\"Proporción grupo {group_c}: {proportion_group_c_event:.2%}\")\n",
    "        print(f\"Estadístico z: {z_stat:.2f}, Valor p: {p_value:.4f}\")\n",
    "\n",
    "        if p_value < 0.05:\n",
    "            print(\"Hay una diferencia estadísticamente significativa entre los grupos.\")\n",
    "        else:\n",
    "            print(\"No hay una diferencia estadísticamente significativa entre los grupos.\")\n",
    "\n",
    "compare_events(filtered_logs, group_a, group_c)"
   ]
  },
  {
   "cell_type": "markdown",
   "metadata": {},
   "source": [
    "**Análisis comparativo de cada evento entre los grupos en el test A/B (247 y 248)**"
   ]
  },
  {
   "cell_type": "code",
   "execution_count": 28,
   "metadata": {
    "scrolled": true
   },
   "outputs": [
    {
     "name": "stdout",
     "output_type": "stream",
     "text": [
      "Análisis comparativo de cada evento entre los grupos en el test A/B (247 y 248)\n",
      "\n",
      "Evento: Tutorial\n",
      "Proporción grupo 247: 11.26%\n",
      "Proporción grupo 248: 11.00%\n",
      "Estadístico z: 0.30, Valor p: 0.7653\n",
      "No hay una diferencia estadísticamente significativa entre los grupos.\n",
      "\n",
      "Evento: MainScreenAppear\n",
      "Proporción grupo 247: 98.53%\n",
      "Proporción grupo 248: 98.27%\n",
      "Estadístico z: 0.74, Valor p: 0.4587\n",
      "No hay una diferencia estadísticamente significativa entre los grupos.\n",
      "\n",
      "Evento: OffersScreenAppear\n",
      "Proporción grupo 247: 60.49%\n",
      "Proporción grupo 248: 60.35%\n",
      "Estadístico z: 0.10, Valor p: 0.9198\n",
      "No hay una diferencia estadísticamente significativa entre los grupos.\n",
      "\n",
      "Evento: CartScreenAppear\n",
      "Proporción grupo 247: 49.26%\n",
      "Proporción grupo 248: 48.48%\n",
      "Estadístico z: 0.56, Valor p: 0.5786\n",
      "No hay una diferencia estadísticamente significativa entre los grupos.\n",
      "\n",
      "Evento: PaymentScreenSuccessful\n",
      "Proporción grupo 247: 46.08%\n",
      "Proporción grupo 248: 46.55%\n",
      "Estadístico z: -0.34, Valor p: 0.7373\n",
      "No hay una diferencia estadísticamente significativa entre los grupos.\n"
     ]
    }
   ],
   "source": [
    "#Se define la función para encontrar la proporción de usuarios para cada evento\n",
    "#Se define la función para encontrar si existe una diferencia estadísticamente significativa entre los grupos para cada evento\n",
    "\n",
    "print('Análisis comparativo de cada evento entre los grupos en el test A/B (247 y 248)')\n",
    "\n",
    "def compare_events(filtered_logs, group_b, group_c):\n",
    "    \n",
    "    events = filtered_logs['event_name'].unique()\n",
    "\n",
    "    for event in events:\n",
    "        #Se cuentan los usuarios que realizaron el evento en cada grupo\n",
    "        users_group_b_event = filtered_logs[(filtered_logs['exp_id'] == group_b) & \n",
    "                                            (filtered_logs['event_name'] == event)]['user_id'].nunique()\n",
    "        users_group_c_event = filtered_logs[(filtered_logs['exp_id'] == group_c) & \n",
    "                                            (filtered_logs['event_name'] == event)]['user_id'].nunique()\n",
    "\n",
    "        #Se calcula el total de usuarios en cada grupo\n",
    "        total_users_group_b = filtered_logs[filtered_logs['exp_id'] == group_b]['user_id'].nunique()\n",
    "        total_users_group_c = filtered_logs[filtered_logs['exp_id'] == group_c]['user_id'].nunique()\n",
    "\n",
    "        #Se calculan las proporciones\n",
    "        proportion_group_b_event = users_group_b_event / total_users_group_b\n",
    "        proportion_group_c_event = users_group_c_event / total_users_group_c\n",
    "\n",
    "        #Se aplica la prueba z para dos proporciones\n",
    "        count_bc = [users_group_b_event, users_group_c_event]\n",
    "        nobs_bc = [total_users_group_b, total_users_group_c]\n",
    "        z_stat, p_value = proportions_ztest(count_bc, nobs_bc)\n",
    "\n",
    "        # Resultados\n",
    "        print(f\"\\nEvento: {event}\")\n",
    "        print(f\"Proporción grupo {group_b}: {proportion_group_b_event:.2%}\")\n",
    "        print(f\"Proporción grupo {group_c}: {proportion_group_c_event:.2%}\")\n",
    "        print(f\"Estadístico z: {z_stat:.2f}, Valor p: {p_value:.4f}\")\n",
    "\n",
    "        if p_value < 0.05:\n",
    "            print(\"Hay una diferencia estadísticamente significativa entre los grupos.\")\n",
    "        else:\n",
    "            print(\"No hay una diferencia estadísticamente significativa entre los grupos.\")\n",
    "\n",
    "compare_events(filtered_logs, group_b, group_c)"
   ]
  },
  {
   "cell_type": "markdown",
   "metadata": {},
   "source": [
    "**Corrección de Bonferroni**"
   ]
  },
  {
   "cell_type": "code",
   "execution_count": 29,
   "metadata": {},
   "outputs": [
    {
     "name": "stdout",
     "output_type": "stream",
     "text": [
      "Nivel de significancia ajustado: 0.0033333333333333335\n"
     ]
    }
   ],
   "source": [
    "#Se aplica el método de corrección \n",
    "\n",
    "#Se encuentra el número de eventos y comparaciones\n",
    "num_events = len(filtered_logs['event_name'].unique())\n",
    "num_comparisons = 3\n",
    "\n",
    "#Se calcula el número de pruebas y nivel de significancia ajustado\n",
    "num_tests = num_events * num_comparisons\n",
    "alpha = 0.05\n",
    "alpha_adjusted = alpha / num_tests\n",
    "\n",
    "print(f\"Nivel de significancia ajustado: {alpha_adjusted}\")"
   ]
  },
  {
   "cell_type": "markdown",
   "metadata": {},
   "source": [
    "**Aplicación del nuevo nivel de significancia (alpha) en el test A/A (246 y 247)**"
   ]
  },
  {
   "cell_type": "code",
   "execution_count": 30,
   "metadata": {
    "scrolled": false
   },
   "outputs": [
    {
     "name": "stdout",
     "output_type": "stream",
     "text": [
      "Aplicación del nuevo nivel de significancia (alpha) en el test A/A (246 y 247)\n",
      "\n",
      "Evento: Tutorial\n",
      "Estadístico z: -0.08, Valor p: 0.9377\n",
      "No hay una diferencia estadísticamente significativa entre los grupos con el nivel de significancia ajustado.\n",
      "\n",
      "Evento: MainScreenAppear\n",
      "Estadístico z: 0.31, Valor p: 0.7571\n",
      "No hay una diferencia estadísticamente significativa entre los grupos con el nivel de significancia ajustado.\n",
      "\n",
      "Evento: OffersScreenAppear\n",
      "Estadístico z: 1.15, Valor p: 0.2481\n",
      "No hay una diferencia estadísticamente significativa entre los grupos con el nivel de significancia ajustado.\n",
      "\n",
      "Evento: CartScreenAppear\n",
      "Estadístico z: 1.20, Valor p: 0.2288\n",
      "No hay una diferencia estadísticamente significativa entre los grupos con el nivel de significancia ajustado.\n",
      "\n",
      "Evento: PaymentScreenSuccessful\n",
      "Estadístico z: 1.58, Valor p: 0.1146\n",
      "No hay una diferencia estadísticamente significativa entre los grupos con el nivel de significancia ajustado.\n"
     ]
    }
   ],
   "source": [
    "#Se define la función para encontrar la proporción de usuarios para cada evento con el nivel de significancia ajustado\n",
    "#Se define la función para encontrar si existe una diferencia estadísticamente significativa entre los grupos para cada evento con el nivel de significancia ajustado\n",
    "\n",
    "print('Aplicación del nuevo nivel de significancia (alpha) en el test A/A (246 y 247)')\n",
    "\n",
    "def compare_events(filtered_logs, group_a, group_b):\n",
    "    \n",
    "    events = filtered_logs['event_name'].unique()\n",
    "\n",
    "    for event in events:\n",
    "        #Se cuentan los usuarios que realizaron el evento en cada grupo\n",
    "        users_group_a_event = filtered_logs[(filtered_logs['exp_id'] == group_a) & \n",
    "                                            (filtered_logs['event_name'] == event)]['user_id'].nunique()\n",
    "        users_group_b_event = filtered_logs[(filtered_logs['exp_id'] == group_b) & \n",
    "                                            (filtered_logs['event_name'] == event)]['user_id'].nunique()\n",
    "\n",
    "        #Se calcula el total de usuarios en cada grupo\n",
    "        total_users_group_a = filtered_logs[filtered_logs['exp_id'] == group_a]['user_id'].nunique()\n",
    "        total_users_group_b = filtered_logs[filtered_logs['exp_id'] == group_b]['user_id'].nunique()\n",
    "\n",
    "        #Se aplica la prueba z para dos proporciones con el nivel de significancia ajustado\n",
    "        count_ab_adjusted = [users_group_a_event, users_group_b_event]\n",
    "        nobs_ab_adjusted = [total_users_group_a, total_users_group_b]\n",
    "        z_stat, p_value = proportions_ztest(count_ab_adjusted, nobs_ab_adjusted)\n",
    "\n",
    "        # Resultados\n",
    "        print(f\"\\nEvento: {event}\")\n",
    "        print(f\"Estadístico z: {z_stat:.2f}, Valor p: {p_value:.4f}\")\n",
    "\n",
    "        if p_value < alpha_adjusted:\n",
    "            print(\"Hay una diferencia estadísticamente significativa entre los grupos con el nivel de significancia ajustado.\")\n",
    "        else:\n",
    "            print(\"No hay una diferencia estadísticamente significativa entre los grupos con el nivel de significancia ajustado.\")\n",
    "            \n",
    "compare_events(filtered_logs, group_a, group_b)"
   ]
  },
  {
   "cell_type": "markdown",
   "metadata": {},
   "source": [
    "**Aplicación del nuevo nivel de significancia (alpha)  en el test A/B (246 y 248)**"
   ]
  },
  {
   "cell_type": "code",
   "execution_count": 31,
   "metadata": {
    "scrolled": false
   },
   "outputs": [
    {
     "name": "stdout",
     "output_type": "stream",
     "text": [
      "Aplicación del nuevo nivel de significancia (alpha) en el test A/B (246 y 248)\n",
      "\n",
      "Evento: Tutorial\n",
      "Estadístico z: 0.22, Valor p: 0.8264\n",
      "No hay una diferencia estadísticamente significativa entre los grupos con el nivel de significancia ajustado.\n",
      "\n",
      "Evento: MainScreenAppear\n",
      "Estadístico z: 1.05, Valor p: 0.2950\n",
      "No hay una diferencia estadísticamente significativa entre los grupos con el nivel de significancia ajustado.\n",
      "\n",
      "Evento: OffersScreenAppear\n",
      "Estadístico z: 1.26, Valor p: 0.2084\n",
      "No hay una diferencia estadísticamente significativa entre los grupos con el nivel de significancia ajustado.\n",
      "\n",
      "Evento: CartScreenAppear\n",
      "Estadístico z: 1.76, Valor p: 0.0784\n",
      "No hay una diferencia estadísticamente significativa entre los grupos con el nivel de significancia ajustado.\n",
      "\n",
      "Evento: PaymentScreenSuccessful\n",
      "Estadístico z: 1.25, Valor p: 0.2123\n",
      "No hay una diferencia estadísticamente significativa entre los grupos con el nivel de significancia ajustado.\n"
     ]
    }
   ],
   "source": [
    "#Se define la función para encontrar la proporción de usuarios para cada evento con el nivel de significancia ajustado\n",
    "#Se define la función para encontrar si existe una diferencia estadísticamente significativa entre los grupos para cada evento con el nivel de significancia ajustado\n",
    "\n",
    "print('Aplicación del nuevo nivel de significancia (alpha) en el test A/B (246 y 248)')\n",
    "\n",
    "def compare_events(filtered_logs, group_a, group_c):\n",
    "    \n",
    "    events = filtered_logs['event_name'].unique()\n",
    "\n",
    "    for event in events:\n",
    "        #Se cuentan los usuarios que realizaron el evento en cada grupo\n",
    "        users_group_a_event = filtered_logs[(filtered_logs['exp_id'] == group_a) & \n",
    "                                            (filtered_logs['event_name'] == event)]['user_id'].nunique()\n",
    "        users_group_c_event = filtered_logs[(filtered_logs['exp_id'] == group_c) & \n",
    "                                            (filtered_logs['event_name'] == event)]['user_id'].nunique()\n",
    "\n",
    "        #Se calcula el total de usuarios en cada grupo\n",
    "        total_users_group_a = filtered_logs[filtered_logs['exp_id'] == group_a]['user_id'].nunique()\n",
    "        total_users_group_c = filtered_logs[filtered_logs['exp_id'] == group_c]['user_id'].nunique()\n",
    "\n",
    "        #Se aplica la prueba z para dos proporciones con el nivel de significancia ajustado\n",
    "        count_ac_adjusted = [users_group_a_event, users_group_c_event]\n",
    "        nobs_ac_adjusted = [total_users_group_a, total_users_group_c]\n",
    "        z_stat, p_value = proportions_ztest(count_ac_adjusted, nobs_ac_adjusted)\n",
    "\n",
    "        # Resultados\n",
    "        print(f\"\\nEvento: {event}\")\n",
    "        print(f\"Estadístico z: {z_stat:.2f}, Valor p: {p_value:.4f}\")\n",
    "\n",
    "        if p_value < alpha_adjusted:\n",
    "            print(\"Hay una diferencia estadísticamente significativa entre los grupos con el nivel de significancia ajustado.\")\n",
    "        else:\n",
    "            print(\"No hay una diferencia estadísticamente significativa entre los grupos con el nivel de significancia ajustado.\")\n",
    "\n",
    "compare_events(filtered_logs, group_a, group_c)"
   ]
  },
  {
   "cell_type": "markdown",
   "metadata": {},
   "source": [
    "**Aplicación del nuevo nivel de significancia (alpha)  en el test A/B (247 y 248)**"
   ]
  },
  {
   "cell_type": "code",
   "execution_count": 32,
   "metadata": {
    "scrolled": false
   },
   "outputs": [
    {
     "name": "stdout",
     "output_type": "stream",
     "text": [
      "Aplicación del nuevo nivel de significancia (alpha) en el test A/B (247 y 248)\n",
      "\n",
      "Evento: Tutorial\n",
      "Estadístico z: 0.30, Valor p: 0.7653\n",
      "No hay una diferencia estadísticamente significativa entre los grupos con el nivel de significancia ajustado.\n",
      "\n",
      "Evento: MainScreenAppear\n",
      "Estadístico z: 0.74, Valor p: 0.4587\n",
      "No hay una diferencia estadísticamente significativa entre los grupos con el nivel de significancia ajustado.\n",
      "\n",
      "Evento: OffersScreenAppear\n",
      "Estadístico z: 0.10, Valor p: 0.9198\n",
      "No hay una diferencia estadísticamente significativa entre los grupos con el nivel de significancia ajustado.\n",
      "\n",
      "Evento: CartScreenAppear\n",
      "Estadístico z: 0.56, Valor p: 0.5786\n",
      "No hay una diferencia estadísticamente significativa entre los grupos con el nivel de significancia ajustado.\n",
      "\n",
      "Evento: PaymentScreenSuccessful\n",
      "Estadístico z: -0.34, Valor p: 0.7373\n",
      "No hay una diferencia estadísticamente significativa entre los grupos con el nivel de significancia ajustado.\n"
     ]
    }
   ],
   "source": [
    "#Se define la función para encontrar la proporción de usuarios para cada evento con el nivel de significancia ajustado\n",
    "#Se define la función para encontrar si existe una diferencia estadísticamente significativa entre los grupos para cada evento con el nivel de significancia ajustado\n",
    "\n",
    "print('Aplicación del nuevo nivel de significancia (alpha) en el test A/B (247 y 248)')\n",
    "\n",
    "def compare_events(filtered_logs, group_b, group_c):\n",
    "    \n",
    "    events = filtered_logs['event_name'].unique()\n",
    "\n",
    "    for event in events:\n",
    "        #Se cuentan los usuarios que realizaron el evento en cada grupo\n",
    "        users_group_b_event = filtered_logs[(filtered_logs['exp_id'] == group_b) & \n",
    "                                            (filtered_logs['event_name'] == event)]['user_id'].nunique()\n",
    "        users_group_c_event = filtered_logs[(filtered_logs['exp_id'] == group_c) & \n",
    "                                            (filtered_logs['event_name'] == event)]['user_id'].nunique()\n",
    "\n",
    "        #Se calcula el total de usuarios en cada grupo\n",
    "        total_users_group_b = filtered_logs[filtered_logs['exp_id'] == group_b]['user_id'].nunique()\n",
    "        total_users_group_c = filtered_logs[filtered_logs['exp_id'] == group_c]['user_id'].nunique()\n",
    "\n",
    "        #Se aplica la prueba z para dos proporciones con el nivel de significancia ajustado\n",
    "        count_bc_adjusted = [users_group_b_event, users_group_c_event]\n",
    "        nobs_bc_adjusted = [total_users_group_b, total_users_group_c]\n",
    "        z_stat, p_value = proportions_ztest(count_bc_adjusted, nobs_bc_adjusted)\n",
    "\n",
    "        # Resultados\n",
    "        print(f\"\\nEvento: {event}\")\n",
    "        print(f\"Estadístico z: {z_stat:.2f}, Valor p: {p_value:.4f}\")\n",
    "\n",
    "        if p_value < alpha_adjusted:\n",
    "            print(\"Hay una diferencia estadísticamente significativa entre los grupos con el nivel de significancia ajustado.\")\n",
    "        else:\n",
    "            print(\"No hay una diferencia estadísticamente significativa entre los grupos con el nivel de significancia ajustado.\")\n",
    "\n",
    "compare_events(filtered_logs, group_b, group_c)"
   ]
  },
  {
   "cell_type": "markdown",
   "metadata": {},
   "source": [
    "[Volver a Contenidos](#back)"
   ]
  },
  {
   "cell_type": "markdown",
   "metadata": {},
   "source": [
    "## Conclusión<a id='Conclusion'></a>\n",
    "\n",
    "En este proyecto, se investigó el **comportamiento de los usuarios** en una aplicación de una empresa emergente que vende productos alimenticios, centrándonos en dos aspectos principales: **el análisis del embudo de ventas y los resultados de un test A/A/B**.\n",
    "\n",
    "* Inicialmente, **se optimizó el dataset** ajustando los nombres de las columnas, eliminando duplicados y transformando el tipo de datos de ciertas columnas para facilitar su análisis. Se descartaron datos incompletos, lo que permitió trabajar con un conjunto más fiable.\n",
    "\n",
    "\n",
    "* El **embudo de ventas** mostró que, aunque la mayoría de los usuarios accedían a la pantalla principal, el 60.96% continuaba a la pantalla de ofertas, y solo un 46.97% completaba el proceso de compra. El análisis de las conversiones reveló que la mayor pérdida de usuarios ocurría en el paso de la pantalla principal a la de ofertas, con una mejor retención en las siguientes etapas del embudo.\n",
    "\n",
    "\n",
    "* Finalmente, se analizaron los **resultados del test A/A/B** para evaluar el impacto de cambiar las fuentes en la aplicación. Los resultados del test A/A (entre los dos grupos de control) confirmaron que no había diferencias significativas, validando la aleatorización de los grupos. De manera similar, el test A/B no reveló diferencias estadísticamente significativas entre los grupos de control y el experimental, lo que sugiere que el cambio en las fuentes no afectó el comportamiento de los usuarios.\n",
    "\n",
    "En resumen, el análisis del embudo de ventas destacó áreas clave de mejora en la conversión de usuarios, y los resultados del test A/A/B indicaron que **los cambios en el diseño no tuvieron un impacto significativo en el comportamiento del usuario**."
   ]
  },
  {
   "cell_type": "markdown",
   "metadata": {},
   "source": [
    "[Volver a Contenidos](#back)"
   ]
  }
 ],
 "metadata": {
  "ExecuteTimeLog": [
   {
    "duration": 3120,
    "start_time": "2024-09-17T16:05:24.236Z"
   },
   {
    "duration": 346,
    "start_time": "2024-09-17T16:14:15.529Z"
   },
   {
    "duration": 194,
    "start_time": "2024-09-17T16:14:16.795Z"
   },
   {
    "duration": 119,
    "start_time": "2024-09-17T16:14:27.063Z"
   },
   {
    "duration": 5,
    "start_time": "2024-09-17T16:14:48.515Z"
   },
   {
    "duration": 4,
    "start_time": "2024-09-17T16:15:20.872Z"
   },
   {
    "duration": 125,
    "start_time": "2024-09-17T16:17:27.838Z"
   },
   {
    "duration": 63,
    "start_time": "2024-09-17T16:17:30.470Z"
   },
   {
    "duration": 64,
    "start_time": "2024-09-17T16:17:35.857Z"
   },
   {
    "duration": 25,
    "start_time": "2024-09-17T16:18:06.056Z"
   },
   {
    "duration": 4,
    "start_time": "2024-09-17T16:58:18.639Z"
   },
   {
    "duration": 211,
    "start_time": "2024-09-17T16:58:28.614Z"
   },
   {
    "duration": 4,
    "start_time": "2024-09-17T16:58:37.542Z"
   },
   {
    "duration": 16,
    "start_time": "2024-09-17T16:59:29.189Z"
   },
   {
    "duration": 8,
    "start_time": "2024-09-17T17:12:13.120Z"
   },
   {
    "duration": 44,
    "start_time": "2024-09-17T17:12:34.723Z"
   },
   {
    "duration": 103,
    "start_time": "2024-09-17T17:12:47.000Z"
   },
   {
    "duration": 83,
    "start_time": "2024-09-17T17:13:10.353Z"
   },
   {
    "duration": 5,
    "start_time": "2024-09-17T17:14:21.329Z"
   },
   {
    "duration": 19,
    "start_time": "2024-09-17T17:18:15.030Z"
   },
   {
    "duration": 177,
    "start_time": "2024-09-17T17:22:27.125Z"
   },
   {
    "duration": 21,
    "start_time": "2024-09-17T17:22:40.153Z"
   },
   {
    "duration": 10,
    "start_time": "2024-09-17T17:23:05.509Z"
   },
   {
    "duration": 143,
    "start_time": "2024-09-17T17:23:23.130Z"
   },
   {
    "duration": 4,
    "start_time": "2024-09-17T17:33:35.237Z"
   },
   {
    "duration": 914,
    "start_time": "2024-09-17T17:33:43.452Z"
   },
   {
    "duration": 104,
    "start_time": "2024-09-17T17:33:44.368Z"
   },
   {
    "duration": 15,
    "start_time": "2024-09-17T17:33:44.474Z"
   },
   {
    "duration": 10,
    "start_time": "2024-09-17T17:33:44.491Z"
   },
   {
    "duration": 23,
    "start_time": "2024-09-17T17:33:44.504Z"
   },
   {
    "duration": 93,
    "start_time": "2024-09-17T17:33:44.529Z"
   },
   {
    "duration": 6,
    "start_time": "2024-09-17T17:33:44.624Z"
   },
   {
    "duration": 4,
    "start_time": "2024-09-17T17:33:44.631Z"
   },
   {
    "duration": 4,
    "start_time": "2024-09-17T17:33:44.637Z"
   },
   {
    "duration": 1116,
    "start_time": "2024-09-17T17:57:51.074Z"
   },
   {
    "duration": 159,
    "start_time": "2024-09-17T17:57:52.193Z"
   },
   {
    "duration": 13,
    "start_time": "2024-09-17T17:57:52.355Z"
   },
   {
    "duration": 30,
    "start_time": "2024-09-17T17:57:52.371Z"
   },
   {
    "duration": 46,
    "start_time": "2024-09-17T17:57:52.404Z"
   },
   {
    "duration": 100,
    "start_time": "2024-09-17T17:57:52.452Z"
   },
   {
    "duration": 52,
    "start_time": "2024-09-17T17:57:52.556Z"
   },
   {
    "duration": 1109,
    "start_time": "2024-09-17T17:58:35.906Z"
   },
   {
    "duration": 184,
    "start_time": "2024-09-17T17:58:37.018Z"
   },
   {
    "duration": 17,
    "start_time": "2024-09-17T17:58:37.205Z"
   },
   {
    "duration": 12,
    "start_time": "2024-09-17T17:58:37.225Z"
   },
   {
    "duration": 49,
    "start_time": "2024-09-17T17:58:37.240Z"
   },
   {
    "duration": 113,
    "start_time": "2024-09-17T17:58:37.292Z"
   },
   {
    "duration": 65,
    "start_time": "2024-09-17T17:58:37.409Z"
   },
   {
    "duration": 821,
    "start_time": "2024-09-17T18:41:06.561Z"
   },
   {
    "duration": 110,
    "start_time": "2024-09-17T18:41:07.385Z"
   },
   {
    "duration": 12,
    "start_time": "2024-09-17T18:41:07.497Z"
   },
   {
    "duration": 8,
    "start_time": "2024-09-17T18:41:07.510Z"
   },
   {
    "duration": 23,
    "start_time": "2024-09-17T18:41:07.521Z"
   },
   {
    "duration": 58,
    "start_time": "2024-09-17T18:41:07.546Z"
   },
   {
    "duration": 36,
    "start_time": "2024-09-17T18:41:07.606Z"
   },
   {
    "duration": 52,
    "start_time": "2024-09-17T18:41:07.644Z"
   },
   {
    "duration": 3,
    "start_time": "2024-09-17T18:41:07.698Z"
   },
   {
    "duration": 683,
    "start_time": "2024-09-17T18:42:10.283Z"
   },
   {
    "duration": 4,
    "start_time": "2024-09-17T18:42:16.102Z"
   },
   {
    "duration": 254,
    "start_time": "2024-09-17T18:43:58.300Z"
   },
   {
    "duration": 14,
    "start_time": "2024-09-17T18:44:15.518Z"
   },
   {
    "duration": 13,
    "start_time": "2024-09-17T18:44:22.852Z"
   },
   {
    "duration": 880,
    "start_time": "2024-09-17T18:51:32.597Z"
   },
   {
    "duration": 100,
    "start_time": "2024-09-17T18:51:33.480Z"
   },
   {
    "duration": 15,
    "start_time": "2024-09-17T18:51:33.581Z"
   },
   {
    "duration": 10,
    "start_time": "2024-09-17T18:51:33.599Z"
   },
   {
    "duration": 24,
    "start_time": "2024-09-17T18:51:33.612Z"
   },
   {
    "duration": 55,
    "start_time": "2024-09-17T18:51:33.638Z"
   },
   {
    "duration": 34,
    "start_time": "2024-09-17T18:51:33.696Z"
   },
   {
    "duration": 35,
    "start_time": "2024-09-17T18:51:33.732Z"
   },
   {
    "duration": 20,
    "start_time": "2024-09-17T18:51:33.769Z"
   },
   {
    "duration": 9,
    "start_time": "2024-09-17T18:51:33.791Z"
   },
   {
    "duration": 828,
    "start_time": "2024-09-17T18:58:23.290Z"
   },
   {
    "duration": 105,
    "start_time": "2024-09-17T18:58:24.120Z"
   },
   {
    "duration": 11,
    "start_time": "2024-09-17T18:58:24.227Z"
   },
   {
    "duration": 9,
    "start_time": "2024-09-17T18:58:24.239Z"
   },
   {
    "duration": 46,
    "start_time": "2024-09-17T18:58:24.250Z"
   },
   {
    "duration": 35,
    "start_time": "2024-09-17T18:58:24.298Z"
   },
   {
    "duration": 36,
    "start_time": "2024-09-17T18:58:24.334Z"
   },
   {
    "duration": 69,
    "start_time": "2024-09-17T18:58:24.386Z"
   },
   {
    "duration": 8,
    "start_time": "2024-09-17T18:58:24.457Z"
   },
   {
    "duration": 804,
    "start_time": "2024-09-17T19:29:04.482Z"
   },
   {
    "duration": 124,
    "start_time": "2024-09-17T19:29:05.289Z"
   },
   {
    "duration": 11,
    "start_time": "2024-09-17T19:29:05.415Z"
   },
   {
    "duration": 9,
    "start_time": "2024-09-17T19:29:05.428Z"
   },
   {
    "duration": 53,
    "start_time": "2024-09-17T19:29:05.439Z"
   },
   {
    "duration": 38,
    "start_time": "2024-09-17T19:29:05.495Z"
   },
   {
    "duration": 79,
    "start_time": "2024-09-17T19:29:05.535Z"
   },
   {
    "duration": 701,
    "start_time": "2024-09-17T19:29:05.616Z"
   },
   {
    "duration": 113,
    "start_time": "2024-09-17T19:29:14.992Z"
   },
   {
    "duration": 16,
    "start_time": "2024-09-17T19:43:58.418Z"
   },
   {
    "duration": 19,
    "start_time": "2024-09-17T19:44:05.020Z"
   },
   {
    "duration": 3,
    "start_time": "2024-09-17T19:44:34.189Z"
   },
   {
    "duration": 4,
    "start_time": "2024-09-17T19:45:51.710Z"
   },
   {
    "duration": 7,
    "start_time": "2024-09-17T19:45:56.296Z"
   },
   {
    "duration": 5,
    "start_time": "2024-09-17T19:50:17.004Z"
   },
   {
    "duration": 4,
    "start_time": "2024-09-17T19:51:57.509Z"
   },
   {
    "duration": 3,
    "start_time": "2024-09-17T19:52:04.533Z"
   },
   {
    "duration": 4,
    "start_time": "2024-09-17T19:55:36.994Z"
   },
   {
    "duration": 5,
    "start_time": "2024-09-17T19:55:39.923Z"
   },
   {
    "duration": 3,
    "start_time": "2024-09-17T19:56:03.794Z"
   },
   {
    "duration": 15,
    "start_time": "2024-09-17T19:56:21.203Z"
   },
   {
    "duration": 19,
    "start_time": "2024-09-17T19:56:38.213Z"
   },
   {
    "duration": 4,
    "start_time": "2024-09-17T19:56:43.398Z"
   },
   {
    "duration": 3,
    "start_time": "2024-09-17T19:58:04.521Z"
   },
   {
    "duration": 3,
    "start_time": "2024-09-17T19:58:22.547Z"
   },
   {
    "duration": 29,
    "start_time": "2024-09-17T20:00:06.185Z"
   },
   {
    "duration": 31,
    "start_time": "2024-09-17T20:00:29.269Z"
   },
   {
    "duration": 380,
    "start_time": "2024-09-17T20:01:53.476Z"
   },
   {
    "duration": 422,
    "start_time": "2024-09-17T20:02:14.439Z"
   },
   {
    "duration": 604,
    "start_time": "2024-09-17T20:09:01.589Z"
   },
   {
    "duration": 870,
    "start_time": "2024-09-17T20:13:46.893Z"
   },
   {
    "duration": 2,
    "start_time": "2024-09-17T20:13:47.766Z"
   },
   {
    "duration": 118,
    "start_time": "2024-09-17T20:13:47.770Z"
   },
   {
    "duration": 11,
    "start_time": "2024-09-17T20:13:47.890Z"
   },
   {
    "duration": 11,
    "start_time": "2024-09-17T20:13:47.904Z"
   },
   {
    "duration": 33,
    "start_time": "2024-09-17T20:13:47.916Z"
   },
   {
    "duration": 61,
    "start_time": "2024-09-17T20:13:47.952Z"
   },
   {
    "duration": 78,
    "start_time": "2024-09-17T20:13:48.015Z"
   },
   {
    "duration": 151,
    "start_time": "2024-09-17T20:13:48.095Z"
   },
   {
    "duration": 4,
    "start_time": "2024-09-17T20:13:48.248Z"
   },
   {
    "duration": 4,
    "start_time": "2024-09-17T20:13:48.255Z"
   },
   {
    "duration": 7,
    "start_time": "2024-09-17T20:13:48.262Z"
   },
   {
    "duration": 17,
    "start_time": "2024-09-17T20:13:48.271Z"
   },
   {
    "duration": 30,
    "start_time": "2024-09-17T20:13:48.290Z"
   },
   {
    "duration": 573,
    "start_time": "2024-09-17T20:13:48.322Z"
   },
   {
    "duration": 447,
    "start_time": "2024-09-17T20:15:32.568Z"
   },
   {
    "duration": 13,
    "start_time": "2024-09-17T20:16:34.273Z"
   },
   {
    "duration": 3,
    "start_time": "2024-09-17T20:17:09.146Z"
   },
   {
    "duration": 37,
    "start_time": "2024-09-17T20:17:13.435Z"
   },
   {
    "duration": 30,
    "start_time": "2024-09-17T20:18:48.912Z"
   },
   {
    "duration": 8,
    "start_time": "2024-09-17T20:19:19.680Z"
   },
   {
    "duration": 16,
    "start_time": "2024-09-17T20:19:34.325Z"
   },
   {
    "duration": 22,
    "start_time": "2024-09-17T20:19:44.474Z"
   },
   {
    "duration": 55,
    "start_time": "2024-09-17T20:21:05.981Z"
   },
   {
    "duration": 858,
    "start_time": "2024-09-17T20:21:21.754Z"
   },
   {
    "duration": 3,
    "start_time": "2024-09-17T20:21:22.615Z"
   },
   {
    "duration": 116,
    "start_time": "2024-09-17T20:21:22.620Z"
   },
   {
    "duration": 13,
    "start_time": "2024-09-17T20:21:22.738Z"
   },
   {
    "duration": 11,
    "start_time": "2024-09-17T20:21:22.754Z"
   },
   {
    "duration": 52,
    "start_time": "2024-09-17T20:21:22.767Z"
   },
   {
    "duration": 48,
    "start_time": "2024-09-17T20:21:22.821Z"
   },
   {
    "duration": 103,
    "start_time": "2024-09-17T20:21:22.871Z"
   },
   {
    "duration": 153,
    "start_time": "2024-09-17T20:21:22.977Z"
   },
   {
    "duration": 7,
    "start_time": "2024-09-17T20:21:23.132Z"
   },
   {
    "duration": 7,
    "start_time": "2024-09-17T20:21:23.141Z"
   },
   {
    "duration": 11,
    "start_time": "2024-09-17T20:21:23.150Z"
   },
   {
    "duration": 3,
    "start_time": "2024-09-17T20:21:23.164Z"
   },
   {
    "duration": 32,
    "start_time": "2024-09-17T20:21:23.188Z"
   },
   {
    "duration": 654,
    "start_time": "2024-09-17T20:21:23.223Z"
   },
   {
    "duration": 38,
    "start_time": "2024-09-17T20:21:23.879Z"
   },
   {
    "duration": 69,
    "start_time": "2024-09-17T20:21:23.919Z"
   },
   {
    "duration": 854,
    "start_time": "2024-09-17T20:54:45.339Z"
   },
   {
    "duration": 2,
    "start_time": "2024-09-17T20:54:46.196Z"
   },
   {
    "duration": 114,
    "start_time": "2024-09-17T20:54:46.201Z"
   },
   {
    "duration": 12,
    "start_time": "2024-09-17T20:54:46.317Z"
   },
   {
    "duration": 8,
    "start_time": "2024-09-17T20:54:46.332Z"
   },
   {
    "duration": 56,
    "start_time": "2024-09-17T20:54:46.342Z"
   },
   {
    "duration": 36,
    "start_time": "2024-09-17T20:54:46.400Z"
   },
   {
    "duration": 80,
    "start_time": "2024-09-17T20:54:46.437Z"
   },
   {
    "duration": 116,
    "start_time": "2024-09-17T20:54:46.519Z"
   },
   {
    "duration": 4,
    "start_time": "2024-09-17T20:54:46.637Z"
   },
   {
    "duration": 3,
    "start_time": "2024-09-17T20:54:46.643Z"
   },
   {
    "duration": 7,
    "start_time": "2024-09-17T20:54:46.648Z"
   },
   {
    "duration": 30,
    "start_time": "2024-09-17T20:54:46.656Z"
   },
   {
    "duration": 23,
    "start_time": "2024-09-17T20:54:46.689Z"
   },
   {
    "duration": 564,
    "start_time": "2024-09-17T20:54:46.714Z"
   },
   {
    "duration": 29,
    "start_time": "2024-09-17T20:54:47.286Z"
   },
   {
    "duration": 41,
    "start_time": "2024-09-17T20:54:47.317Z"
   },
   {
    "duration": 42,
    "start_time": "2024-09-17T20:55:22.764Z"
   },
   {
    "duration": 6,
    "start_time": "2024-09-17T20:57:14.200Z"
   },
   {
    "duration": 300,
    "start_time": "2024-09-17T21:09:26.201Z"
   },
   {
    "duration": 41,
    "start_time": "2024-09-17T21:09:37.400Z"
   },
   {
    "duration": 33,
    "start_time": "2024-09-17T21:09:47.648Z"
   },
   {
    "duration": 814,
    "start_time": "2024-09-17T21:09:56.385Z"
   },
   {
    "duration": 3,
    "start_time": "2024-09-17T21:09:57.202Z"
   },
   {
    "duration": 109,
    "start_time": "2024-09-17T21:09:57.206Z"
   },
   {
    "duration": 13,
    "start_time": "2024-09-17T21:09:57.318Z"
   },
   {
    "duration": 10,
    "start_time": "2024-09-17T21:09:57.333Z"
   },
   {
    "duration": 65,
    "start_time": "2024-09-17T21:09:57.347Z"
   },
   {
    "duration": 48,
    "start_time": "2024-09-17T21:09:57.414Z"
   },
   {
    "duration": 99,
    "start_time": "2024-09-17T21:09:57.464Z"
   },
   {
    "duration": 118,
    "start_time": "2024-09-17T21:09:57.565Z"
   },
   {
    "duration": 4,
    "start_time": "2024-09-17T21:09:57.687Z"
   },
   {
    "duration": 7,
    "start_time": "2024-09-17T21:09:57.692Z"
   },
   {
    "duration": 3,
    "start_time": "2024-09-17T21:09:57.701Z"
   },
   {
    "duration": 24,
    "start_time": "2024-09-17T21:09:57.706Z"
   },
   {
    "duration": 642,
    "start_time": "2024-09-17T21:09:57.732Z"
   },
   {
    "duration": 38,
    "start_time": "2024-09-17T21:09:58.376Z"
   },
   {
    "duration": 5,
    "start_time": "2024-09-17T21:09:58.416Z"
   },
   {
    "duration": 7,
    "start_time": "2024-09-17T21:09:58.423Z"
   },
   {
    "duration": 23,
    "start_time": "2024-09-17T21:09:58.431Z"
   },
   {
    "duration": 64,
    "start_time": "2024-09-17T21:09:58.456Z"
   },
   {
    "duration": 310,
    "start_time": "2024-09-17T21:09:58.522Z"
   },
   {
    "duration": 52,
    "start_time": "2024-09-17T21:10:20.418Z"
   },
   {
    "duration": 53,
    "start_time": "2024-09-17T21:11:13.010Z"
   },
   {
    "duration": 4,
    "start_time": "2024-09-17T21:12:16.567Z"
   },
   {
    "duration": 51,
    "start_time": "2024-09-17T21:12:21.670Z"
   },
   {
    "duration": 52,
    "start_time": "2024-09-17T21:12:37.169Z"
   },
   {
    "duration": 2538,
    "start_time": "2024-09-17T23:25:05.114Z"
   },
   {
    "duration": 3,
    "start_time": "2024-09-17T23:25:07.654Z"
   },
   {
    "duration": 152,
    "start_time": "2024-09-17T23:25:07.659Z"
   },
   {
    "duration": 11,
    "start_time": "2024-09-17T23:25:07.813Z"
   },
   {
    "duration": 9,
    "start_time": "2024-09-17T23:25:07.826Z"
   },
   {
    "duration": 58,
    "start_time": "2024-09-17T23:25:07.838Z"
   },
   {
    "duration": 34,
    "start_time": "2024-09-17T23:25:07.898Z"
   },
   {
    "duration": 76,
    "start_time": "2024-09-17T23:25:07.934Z"
   },
   {
    "duration": 120,
    "start_time": "2024-09-17T23:25:08.011Z"
   },
   {
    "duration": 3,
    "start_time": "2024-09-17T23:25:08.133Z"
   },
   {
    "duration": 7,
    "start_time": "2024-09-17T23:25:08.139Z"
   },
   {
    "duration": 3,
    "start_time": "2024-09-17T23:25:08.148Z"
   },
   {
    "duration": 45,
    "start_time": "2024-09-17T23:25:08.152Z"
   },
   {
    "duration": 588,
    "start_time": "2024-09-17T23:25:08.200Z"
   },
   {
    "duration": 25,
    "start_time": "2024-09-17T23:25:08.791Z"
   },
   {
    "duration": 3,
    "start_time": "2024-09-17T23:25:08.819Z"
   },
   {
    "duration": 7,
    "start_time": "2024-09-17T23:25:08.824Z"
   },
   {
    "duration": 22,
    "start_time": "2024-09-17T23:25:08.832Z"
   },
   {
    "duration": 66,
    "start_time": "2024-09-17T23:25:08.856Z"
   },
   {
    "duration": 3,
    "start_time": "2024-09-17T23:33:14.352Z"
   },
   {
    "duration": 3,
    "start_time": "2024-09-17T23:33:29.506Z"
   },
   {
    "duration": 6,
    "start_time": "2024-09-17T23:34:09.330Z"
   },
   {
    "duration": 5,
    "start_time": "2024-09-17T23:37:31.320Z"
   },
   {
    "duration": 41,
    "start_time": "2024-09-17T23:37:38.754Z"
   },
   {
    "duration": 3,
    "start_time": "2024-09-17T23:48:52.016Z"
   },
   {
    "duration": 4,
    "start_time": "2024-09-18T00:18:37.792Z"
   },
   {
    "duration": 5,
    "start_time": "2024-09-18T00:19:19.060Z"
   },
   {
    "duration": 4,
    "start_time": "2024-09-18T00:19:29.541Z"
   },
   {
    "duration": 4,
    "start_time": "2024-09-18T00:20:16.920Z"
   },
   {
    "duration": 33,
    "start_time": "2024-09-18T00:20:55.289Z"
   },
   {
    "duration": 37,
    "start_time": "2024-09-18T00:21:03.236Z"
   },
   {
    "duration": 27,
    "start_time": "2024-09-18T00:21:48.624Z"
   },
   {
    "duration": 8,
    "start_time": "2024-09-18T00:23:07.510Z"
   },
   {
    "duration": 8,
    "start_time": "2024-09-18T00:23:14.277Z"
   },
   {
    "duration": 4,
    "start_time": "2024-09-18T00:24:11.139Z"
   },
   {
    "duration": 505,
    "start_time": "2024-09-18T00:25:25.915Z"
   },
   {
    "duration": 20,
    "start_time": "2024-09-18T00:26:50.037Z"
   },
   {
    "duration": 3,
    "start_time": "2024-09-18T00:30:13.354Z"
   },
   {
    "duration": 3,
    "start_time": "2024-09-18T00:31:06.853Z"
   },
   {
    "duration": 19,
    "start_time": "2024-09-18T00:31:44.255Z"
   },
   {
    "duration": 3,
    "start_time": "2024-09-18T00:35:37.674Z"
   },
   {
    "duration": 3,
    "start_time": "2024-09-18T00:35:48.022Z"
   },
   {
    "duration": 4,
    "start_time": "2024-09-18T00:35:54.192Z"
   },
   {
    "duration": 126,
    "start_time": "2024-09-18T00:35:57.367Z"
   },
   {
    "duration": 4,
    "start_time": "2024-09-18T00:36:05.286Z"
   },
   {
    "duration": 857,
    "start_time": "2024-09-18T00:43:03.415Z"
   },
   {
    "duration": 2,
    "start_time": "2024-09-18T00:43:04.274Z"
   },
   {
    "duration": 106,
    "start_time": "2024-09-18T00:43:04.278Z"
   },
   {
    "duration": 12,
    "start_time": "2024-09-18T00:43:04.387Z"
   },
   {
    "duration": 9,
    "start_time": "2024-09-18T00:43:04.400Z"
   },
   {
    "duration": 34,
    "start_time": "2024-09-18T00:43:04.410Z"
   },
   {
    "duration": 56,
    "start_time": "2024-09-18T00:43:04.445Z"
   },
   {
    "duration": 62,
    "start_time": "2024-09-18T00:43:04.503Z"
   },
   {
    "duration": 126,
    "start_time": "2024-09-18T00:43:04.567Z"
   },
   {
    "duration": 3,
    "start_time": "2024-09-18T00:43:04.697Z"
   },
   {
    "duration": 6,
    "start_time": "2024-09-18T00:43:04.702Z"
   },
   {
    "duration": 3,
    "start_time": "2024-09-18T00:43:04.709Z"
   },
   {
    "duration": 22,
    "start_time": "2024-09-18T00:43:04.714Z"
   },
   {
    "duration": 603,
    "start_time": "2024-09-18T00:43:04.738Z"
   },
   {
    "duration": 27,
    "start_time": "2024-09-18T00:43:05.342Z"
   },
   {
    "duration": 16,
    "start_time": "2024-09-18T00:43:05.371Z"
   },
   {
    "duration": 7,
    "start_time": "2024-09-18T00:43:05.389Z"
   },
   {
    "duration": 22,
    "start_time": "2024-09-18T00:43:05.398Z"
   },
   {
    "duration": 38,
    "start_time": "2024-09-18T00:43:05.422Z"
   },
   {
    "duration": 27,
    "start_time": "2024-09-18T00:43:05.462Z"
   },
   {
    "duration": 23,
    "start_time": "2024-09-18T00:43:05.491Z"
   },
   {
    "duration": 4,
    "start_time": "2024-09-18T00:43:05.516Z"
   },
   {
    "duration": 520,
    "start_time": "2024-09-18T00:43:05.522Z"
   },
   {
    "duration": 20,
    "start_time": "2024-09-18T00:43:06.044Z"
   },
   {
    "duration": 4,
    "start_time": "2024-09-18T00:43:06.066Z"
   },
   {
    "duration": 130,
    "start_time": "2024-09-18T00:49:23.415Z"
   },
   {
    "duration": 4,
    "start_time": "2024-09-18T00:49:31.046Z"
   },
   {
    "duration": 21,
    "start_time": "2024-09-18T01:11:09.538Z"
   },
   {
    "duration": 4,
    "start_time": "2024-09-18T01:12:09.334Z"
   },
   {
    "duration": 4,
    "start_time": "2024-09-18T01:12:15.425Z"
   },
   {
    "duration": 177,
    "start_time": "2024-09-18T01:12:43.821Z"
   },
   {
    "duration": 5,
    "start_time": "2024-09-18T01:12:55.337Z"
   },
   {
    "duration": 5,
    "start_time": "2024-09-18T01:13:04.297Z"
   },
   {
    "duration": 5,
    "start_time": "2024-09-18T01:13:16.931Z"
   },
   {
    "duration": 5,
    "start_time": "2024-09-18T01:14:01.451Z"
   },
   {
    "duration": 5,
    "start_time": "2024-09-18T01:14:20.779Z"
   },
   {
    "duration": 2649,
    "start_time": "2024-09-18T18:49:06.027Z"
   },
   {
    "duration": 2,
    "start_time": "2024-09-18T18:49:08.678Z"
   },
   {
    "duration": 139,
    "start_time": "2024-09-18T18:49:08.682Z"
   },
   {
    "duration": 11,
    "start_time": "2024-09-18T18:49:08.824Z"
   },
   {
    "duration": 10,
    "start_time": "2024-09-18T18:49:08.837Z"
   },
   {
    "duration": 37,
    "start_time": "2024-09-18T18:49:08.848Z"
   },
   {
    "duration": 53,
    "start_time": "2024-09-18T18:49:08.886Z"
   },
   {
    "duration": 65,
    "start_time": "2024-09-18T18:49:08.941Z"
   },
   {
    "duration": 124,
    "start_time": "2024-09-18T18:49:09.008Z"
   },
   {
    "duration": 3,
    "start_time": "2024-09-18T18:49:09.136Z"
   },
   {
    "duration": 8,
    "start_time": "2024-09-18T18:49:09.141Z"
   },
   {
    "duration": 3,
    "start_time": "2024-09-18T18:49:09.151Z"
   },
   {
    "duration": 27,
    "start_time": "2024-09-18T18:49:09.155Z"
   },
   {
    "duration": 634,
    "start_time": "2024-09-18T18:49:09.184Z"
   },
   {
    "duration": 33,
    "start_time": "2024-09-18T18:49:09.820Z"
   },
   {
    "duration": 3,
    "start_time": "2024-09-18T18:49:09.854Z"
   },
   {
    "duration": 7,
    "start_time": "2024-09-18T18:49:09.859Z"
   },
   {
    "duration": 23,
    "start_time": "2024-09-18T18:49:09.867Z"
   },
   {
    "duration": 63,
    "start_time": "2024-09-18T18:49:09.891Z"
   },
   {
    "duration": 5,
    "start_time": "2024-09-18T18:49:09.956Z"
   },
   {
    "duration": 25,
    "start_time": "2024-09-18T18:49:09.962Z"
   },
   {
    "duration": 4,
    "start_time": "2024-09-18T18:49:09.989Z"
   },
   {
    "duration": 656,
    "start_time": "2024-09-18T18:49:09.995Z"
   },
   {
    "duration": 21,
    "start_time": "2024-09-18T18:49:10.652Z"
   },
   {
    "duration": 3,
    "start_time": "2024-09-18T18:49:10.675Z"
   },
   {
    "duration": 6,
    "start_time": "2024-09-18T18:49:10.681Z"
   },
   {
    "duration": 43,
    "start_time": "2024-09-18T18:49:10.689Z"
   },
   {
    "duration": 6,
    "start_time": "2024-09-18T18:49:10.737Z"
   },
   {
    "duration": 8,
    "start_time": "2024-09-18T19:44:49.982Z"
   },
   {
    "duration": 8,
    "start_time": "2024-09-18T19:48:12.745Z"
   },
   {
    "duration": 25,
    "start_time": "2024-09-18T19:52:48.624Z"
   },
   {
    "duration": 3,
    "start_time": "2024-09-18T19:52:52.891Z"
   },
   {
    "duration": 60,
    "start_time": "2024-09-18T20:00:36.301Z"
   },
   {
    "duration": 4,
    "start_time": "2024-09-18T20:00:38.266Z"
   },
   {
    "duration": 843,
    "start_time": "2024-09-18T20:19:32.460Z"
   },
   {
    "duration": 3,
    "start_time": "2024-09-18T20:19:33.304Z"
   },
   {
    "duration": 108,
    "start_time": "2024-09-18T20:19:33.309Z"
   },
   {
    "duration": 18,
    "start_time": "2024-09-18T20:19:33.419Z"
   },
   {
    "duration": 9,
    "start_time": "2024-09-18T20:19:33.440Z"
   },
   {
    "duration": 35,
    "start_time": "2024-09-18T20:19:33.450Z"
   },
   {
    "duration": 57,
    "start_time": "2024-09-18T20:19:33.488Z"
   },
   {
    "duration": 64,
    "start_time": "2024-09-18T20:19:33.547Z"
   },
   {
    "duration": 118,
    "start_time": "2024-09-18T20:19:33.614Z"
   },
   {
    "duration": 25,
    "start_time": "2024-09-18T20:19:33.734Z"
   },
   {
    "duration": 3,
    "start_time": "2024-09-18T20:19:33.761Z"
   },
   {
    "duration": 582,
    "start_time": "2024-09-18T20:19:33.766Z"
   },
   {
    "duration": 25,
    "start_time": "2024-09-18T20:19:34.350Z"
   },
   {
    "duration": 75,
    "start_time": "2024-09-18T20:19:34.379Z"
   },
   {
    "duration": 4,
    "start_time": "2024-09-18T20:19:34.456Z"
   },
   {
    "duration": 5,
    "start_time": "2024-09-18T20:19:34.462Z"
   },
   {
    "duration": 24,
    "start_time": "2024-09-18T20:19:34.469Z"
   },
   {
    "duration": 4,
    "start_time": "2024-09-18T20:19:34.495Z"
   },
   {
    "duration": 514,
    "start_time": "2024-09-18T20:19:34.501Z"
   },
   {
    "duration": 32,
    "start_time": "2024-09-18T20:19:35.017Z"
   },
   {
    "duration": 3,
    "start_time": "2024-09-18T20:19:35.051Z"
   },
   {
    "duration": 5,
    "start_time": "2024-09-18T20:19:35.056Z"
   },
   {
    "duration": 20,
    "start_time": "2024-09-18T20:19:35.063Z"
   },
   {
    "duration": 5,
    "start_time": "2024-09-18T20:19:35.084Z"
   },
   {
    "duration": 2599,
    "start_time": "2024-09-18T21:55:09.262Z"
   },
   {
    "duration": 2,
    "start_time": "2024-09-18T21:55:11.864Z"
   },
   {
    "duration": 150,
    "start_time": "2024-09-18T21:55:11.868Z"
   },
   {
    "duration": 12,
    "start_time": "2024-09-18T21:55:12.020Z"
   },
   {
    "duration": 9,
    "start_time": "2024-09-18T21:55:12.034Z"
   },
   {
    "duration": 34,
    "start_time": "2024-09-18T21:55:12.045Z"
   },
   {
    "duration": 57,
    "start_time": "2024-09-18T21:55:12.081Z"
   },
   {
    "duration": 66,
    "start_time": "2024-09-18T21:55:12.141Z"
   },
   {
    "duration": 118,
    "start_time": "2024-09-18T21:55:12.208Z"
   },
   {
    "duration": 25,
    "start_time": "2024-09-18T21:55:12.330Z"
   },
   {
    "duration": 3,
    "start_time": "2024-09-18T21:55:12.357Z"
   },
   {
    "duration": 580,
    "start_time": "2024-09-18T21:55:12.361Z"
   },
   {
    "duration": 30,
    "start_time": "2024-09-18T21:55:12.943Z"
   },
   {
    "duration": 73,
    "start_time": "2024-09-18T21:55:12.976Z"
   },
   {
    "duration": 4,
    "start_time": "2024-09-18T21:55:13.051Z"
   },
   {
    "duration": 5,
    "start_time": "2024-09-18T21:55:13.056Z"
   },
   {
    "duration": 25,
    "start_time": "2024-09-18T21:55:13.063Z"
   },
   {
    "duration": 4,
    "start_time": "2024-09-18T21:55:13.090Z"
   },
   {
    "duration": 518,
    "start_time": "2024-09-18T21:55:13.096Z"
   },
   {
    "duration": 30,
    "start_time": "2024-09-18T21:55:13.616Z"
   },
   {
    "duration": 3,
    "start_time": "2024-09-18T21:55:13.648Z"
   },
   {
    "duration": 4,
    "start_time": "2024-09-18T21:55:13.653Z"
   },
   {
    "duration": 20,
    "start_time": "2024-09-18T21:55:13.659Z"
   },
   {
    "duration": 4,
    "start_time": "2024-09-18T21:55:13.681Z"
   },
   {
    "duration": 29,
    "start_time": "2024-09-18T21:57:23.077Z"
   },
   {
    "duration": 8,
    "start_time": "2024-09-18T21:58:06.728Z"
   },
   {
    "duration": 29,
    "start_time": "2024-09-18T21:58:38.151Z"
   },
   {
    "duration": 8,
    "start_time": "2024-09-18T21:58:43.914Z"
   },
   {
    "duration": 3,
    "start_time": "2024-09-18T21:59:29.514Z"
   },
   {
    "duration": 7,
    "start_time": "2024-09-18T22:02:11.081Z"
   },
   {
    "duration": 812,
    "start_time": "2024-09-18T22:11:57.907Z"
   },
   {
    "duration": 2,
    "start_time": "2024-09-18T22:11:58.721Z"
   },
   {
    "duration": 107,
    "start_time": "2024-09-18T22:11:58.724Z"
   },
   {
    "duration": 13,
    "start_time": "2024-09-18T22:11:58.835Z"
   },
   {
    "duration": 11,
    "start_time": "2024-09-18T22:11:58.851Z"
   },
   {
    "duration": 39,
    "start_time": "2024-09-18T22:11:58.864Z"
   },
   {
    "duration": 54,
    "start_time": "2024-09-18T22:11:58.905Z"
   },
   {
    "duration": 70,
    "start_time": "2024-09-18T22:11:58.961Z"
   },
   {
    "duration": 116,
    "start_time": "2024-09-18T22:11:59.033Z"
   },
   {
    "duration": 26,
    "start_time": "2024-09-18T22:11:59.152Z"
   },
   {
    "duration": 4,
    "start_time": "2024-09-18T22:11:59.179Z"
   },
   {
    "duration": 568,
    "start_time": "2024-09-18T22:11:59.184Z"
   },
   {
    "duration": 26,
    "start_time": "2024-09-18T22:11:59.754Z"
   },
   {
    "duration": 75,
    "start_time": "2024-09-18T22:11:59.783Z"
   },
   {
    "duration": 4,
    "start_time": "2024-09-18T22:11:59.860Z"
   },
   {
    "duration": 5,
    "start_time": "2024-09-18T22:11:59.866Z"
   },
   {
    "duration": 24,
    "start_time": "2024-09-18T22:11:59.872Z"
   },
   {
    "duration": 5,
    "start_time": "2024-09-18T22:11:59.898Z"
   },
   {
    "duration": 50,
    "start_time": "2024-09-18T22:11:59.905Z"
   },
   {
    "duration": 6,
    "start_time": "2024-09-18T22:11:59.957Z"
   },
   {
    "duration": 780,
    "start_time": "2024-09-18T22:23:52.596Z"
   },
   {
    "duration": 2,
    "start_time": "2024-09-18T22:23:53.378Z"
   },
   {
    "duration": 111,
    "start_time": "2024-09-18T22:23:53.382Z"
   },
   {
    "duration": 11,
    "start_time": "2024-09-18T22:23:53.496Z"
   },
   {
    "duration": 24,
    "start_time": "2024-09-18T22:23:53.508Z"
   },
   {
    "duration": 33,
    "start_time": "2024-09-18T22:23:53.533Z"
   },
   {
    "duration": 35,
    "start_time": "2024-09-18T22:23:53.567Z"
   },
   {
    "duration": 81,
    "start_time": "2024-09-18T22:23:53.603Z"
   },
   {
    "duration": 115,
    "start_time": "2024-09-18T22:23:53.686Z"
   },
   {
    "duration": 29,
    "start_time": "2024-09-18T22:23:53.804Z"
   },
   {
    "duration": 3,
    "start_time": "2024-09-18T22:23:53.835Z"
   },
   {
    "duration": 581,
    "start_time": "2024-09-18T22:23:53.840Z"
   },
   {
    "duration": 29,
    "start_time": "2024-09-18T22:23:54.423Z"
   },
   {
    "duration": 57,
    "start_time": "2024-09-18T22:23:54.453Z"
   },
   {
    "duration": 19,
    "start_time": "2024-09-18T22:23:54.512Z"
   },
   {
    "duration": 5,
    "start_time": "2024-09-18T22:23:54.533Z"
   },
   {
    "duration": 24,
    "start_time": "2024-09-18T22:23:54.540Z"
   },
   {
    "duration": 4,
    "start_time": "2024-09-18T22:23:54.566Z"
   },
   {
    "duration": 29,
    "start_time": "2024-09-18T22:23:54.571Z"
   },
   {
    "duration": 36,
    "start_time": "2024-09-18T22:23:54.601Z"
   },
   {
    "duration": 40,
    "start_time": "2024-09-18T22:45:13.035Z"
   },
   {
    "duration": 29,
    "start_time": "2024-09-18T22:45:30.257Z"
   },
   {
    "duration": 4,
    "start_time": "2024-09-18T22:49:18.311Z"
   },
   {
    "duration": 20,
    "start_time": "2024-09-18T22:50:57.247Z"
   },
   {
    "duration": 21,
    "start_time": "2024-09-18T22:51:46.872Z"
   },
   {
    "duration": 395,
    "start_time": "2024-09-18T22:53:41.377Z"
   },
   {
    "duration": 842,
    "start_time": "2024-09-18T22:56:25.289Z"
   },
   {
    "duration": 3,
    "start_time": "2024-09-18T22:56:26.133Z"
   },
   {
    "duration": 107,
    "start_time": "2024-09-18T22:56:26.138Z"
   },
   {
    "duration": 10,
    "start_time": "2024-09-18T22:56:26.248Z"
   },
   {
    "duration": 8,
    "start_time": "2024-09-18T22:56:26.261Z"
   },
   {
    "duration": 35,
    "start_time": "2024-09-18T22:56:26.271Z"
   },
   {
    "duration": 59,
    "start_time": "2024-09-18T22:56:26.308Z"
   },
   {
    "duration": 82,
    "start_time": "2024-09-18T22:56:26.369Z"
   },
   {
    "duration": 131,
    "start_time": "2024-09-18T22:56:26.453Z"
   },
   {
    "duration": 25,
    "start_time": "2024-09-18T22:56:26.587Z"
   },
   {
    "duration": 3,
    "start_time": "2024-09-18T22:56:26.614Z"
   },
   {
    "duration": 590,
    "start_time": "2024-09-18T22:56:26.632Z"
   },
   {
    "duration": 29,
    "start_time": "2024-09-18T22:56:27.224Z"
   },
   {
    "duration": 75,
    "start_time": "2024-09-18T22:56:27.256Z"
   },
   {
    "duration": 4,
    "start_time": "2024-09-18T22:56:27.333Z"
   },
   {
    "duration": 5,
    "start_time": "2024-09-18T22:56:27.339Z"
   },
   {
    "duration": 24,
    "start_time": "2024-09-18T22:56:27.345Z"
   },
   {
    "duration": 6,
    "start_time": "2024-09-18T22:56:27.371Z"
   },
   {
    "duration": 59,
    "start_time": "2024-09-18T22:56:27.379Z"
   },
   {
    "duration": 7,
    "start_time": "2024-09-18T22:56:27.440Z"
   },
   {
    "duration": 5,
    "start_time": "2024-09-18T22:56:27.449Z"
   },
   {
    "duration": 19,
    "start_time": "2024-09-18T22:56:27.456Z"
   },
   {
    "duration": 323,
    "start_time": "2024-09-18T22:56:27.476Z"
   },
   {
    "duration": 4,
    "start_time": "2024-09-18T22:56:52.228Z"
   },
   {
    "duration": 41,
    "start_time": "2024-09-18T22:57:11.272Z"
   },
   {
    "duration": 129,
    "start_time": "2024-09-18T22:57:21.285Z"
   },
   {
    "duration": 45,
    "start_time": "2024-09-18T22:57:38.041Z"
   },
   {
    "duration": 3,
    "start_time": "2024-09-18T22:57:48.365Z"
   },
   {
    "duration": 2570,
    "start_time": "2024-09-19T00:03:27.458Z"
   },
   {
    "duration": 2,
    "start_time": "2024-09-19T00:03:30.030Z"
   },
   {
    "duration": 151,
    "start_time": "2024-09-19T00:03:30.036Z"
   },
   {
    "duration": 12,
    "start_time": "2024-09-19T00:03:30.189Z"
   },
   {
    "duration": 9,
    "start_time": "2024-09-19T00:03:30.202Z"
   },
   {
    "duration": 34,
    "start_time": "2024-09-19T00:03:30.213Z"
   },
   {
    "duration": 51,
    "start_time": "2024-09-19T00:03:30.249Z"
   },
   {
    "duration": 62,
    "start_time": "2024-09-19T00:03:30.303Z"
   },
   {
    "duration": 126,
    "start_time": "2024-09-19T00:03:30.367Z"
   },
   {
    "duration": 24,
    "start_time": "2024-09-19T00:03:30.496Z"
   },
   {
    "duration": 3,
    "start_time": "2024-09-19T00:03:30.522Z"
   },
   {
    "duration": 572,
    "start_time": "2024-09-19T00:03:30.527Z"
   },
   {
    "duration": 25,
    "start_time": "2024-09-19T00:03:31.101Z"
   },
   {
    "duration": 75,
    "start_time": "2024-09-19T00:03:31.128Z"
   },
   {
    "duration": 5,
    "start_time": "2024-09-19T00:03:31.205Z"
   },
   {
    "duration": 4,
    "start_time": "2024-09-19T00:03:31.212Z"
   },
   {
    "duration": 26,
    "start_time": "2024-09-19T00:03:31.218Z"
   },
   {
    "duration": 4,
    "start_time": "2024-09-19T00:03:31.247Z"
   },
   {
    "duration": 58,
    "start_time": "2024-09-19T00:03:31.256Z"
   },
   {
    "duration": 8,
    "start_time": "2024-09-19T00:03:31.315Z"
   },
   {
    "duration": 3,
    "start_time": "2024-09-19T00:03:31.325Z"
   },
   {
    "duration": 20,
    "start_time": "2024-09-19T00:03:31.330Z"
   },
   {
    "duration": 35,
    "start_time": "2024-09-19T00:03:31.351Z"
   },
   {
    "duration": 42,
    "start_time": "2024-09-19T00:03:31.388Z"
   },
   {
    "duration": 174,
    "start_time": "2024-09-19T00:03:31.432Z"
   },
   {
    "duration": 40,
    "start_time": "2024-09-19T00:03:31.608Z"
   },
   {
    "duration": 3,
    "start_time": "2024-09-19T00:03:31.650Z"
   },
   {
    "duration": 3,
    "start_time": "2024-09-19T00:09:59.801Z"
   },
   {
    "duration": 5,
    "start_time": "2024-09-19T00:11:19.348Z"
   },
   {
    "duration": 4,
    "start_time": "2024-09-19T00:11:25.944Z"
   },
   {
    "duration": 5,
    "start_time": "2024-09-19T00:11:46.793Z"
   },
   {
    "duration": 22,
    "start_time": "2024-09-19T00:16:57.377Z"
   },
   {
    "duration": 21,
    "start_time": "2024-09-19T00:18:26.587Z"
   },
   {
    "duration": 23,
    "start_time": "2024-09-19T00:18:54.135Z"
   },
   {
    "duration": 22,
    "start_time": "2024-09-19T00:19:06.495Z"
   },
   {
    "duration": 3,
    "start_time": "2024-09-19T00:23:16.522Z"
   },
   {
    "duration": 30,
    "start_time": "2024-09-19T00:24:19.447Z"
   },
   {
    "duration": 265,
    "start_time": "2024-09-19T00:29:04.897Z"
   },
   {
    "duration": 819,
    "start_time": "2024-09-19T00:30:12.666Z"
   },
   {
    "duration": 2,
    "start_time": "2024-09-19T00:30:13.488Z"
   },
   {
    "duration": 110,
    "start_time": "2024-09-19T00:30:13.492Z"
   },
   {
    "duration": 10,
    "start_time": "2024-09-19T00:30:13.604Z"
   },
   {
    "duration": 9,
    "start_time": "2024-09-19T00:30:13.618Z"
   },
   {
    "duration": 33,
    "start_time": "2024-09-19T00:30:13.628Z"
   },
   {
    "duration": 52,
    "start_time": "2024-09-19T00:30:13.663Z"
   },
   {
    "duration": 75,
    "start_time": "2024-09-19T00:30:13.716Z"
   },
   {
    "duration": 113,
    "start_time": "2024-09-19T00:30:13.794Z"
   },
   {
    "duration": 27,
    "start_time": "2024-09-19T00:30:13.909Z"
   },
   {
    "duration": 3,
    "start_time": "2024-09-19T00:30:13.938Z"
   },
   {
    "duration": 604,
    "start_time": "2024-09-19T00:30:13.943Z"
   },
   {
    "duration": 25,
    "start_time": "2024-09-19T00:30:14.550Z"
   },
   {
    "duration": 61,
    "start_time": "2024-09-19T00:30:14.588Z"
   },
   {
    "duration": 4,
    "start_time": "2024-09-19T00:30:14.651Z"
   },
   {
    "duration": 5,
    "start_time": "2024-09-19T00:30:14.657Z"
   },
   {
    "duration": 40,
    "start_time": "2024-09-19T00:30:14.664Z"
   },
   {
    "duration": 4,
    "start_time": "2024-09-19T00:30:14.706Z"
   },
   {
    "duration": 26,
    "start_time": "2024-09-19T00:30:14.712Z"
   },
   {
    "duration": 7,
    "start_time": "2024-09-19T00:30:14.740Z"
   },
   {
    "duration": 5,
    "start_time": "2024-09-19T00:30:14.748Z"
   },
   {
    "duration": 22,
    "start_time": "2024-09-19T00:30:14.787Z"
   },
   {
    "duration": 29,
    "start_time": "2024-09-19T00:30:14.811Z"
   },
   {
    "duration": 307,
    "start_time": "2024-09-19T00:30:14.842Z"
   },
   {
    "duration": 3,
    "start_time": "2024-09-19T00:30:15.150Z"
   },
   {
    "duration": 2568,
    "start_time": "2024-09-19T18:45:36.180Z"
   },
   {
    "duration": 2,
    "start_time": "2024-09-19T18:45:38.751Z"
   },
   {
    "duration": 140,
    "start_time": "2024-09-19T18:45:38.755Z"
   },
   {
    "duration": 10,
    "start_time": "2024-09-19T18:45:38.898Z"
   },
   {
    "duration": 18,
    "start_time": "2024-09-19T18:45:38.910Z"
   },
   {
    "duration": 31,
    "start_time": "2024-09-19T18:45:38.929Z"
   },
   {
    "duration": 32,
    "start_time": "2024-09-19T18:45:38.962Z"
   },
   {
    "duration": 76,
    "start_time": "2024-09-19T18:45:38.996Z"
   },
   {
    "duration": 112,
    "start_time": "2024-09-19T18:45:39.074Z"
   },
   {
    "duration": 34,
    "start_time": "2024-09-19T18:45:39.190Z"
   },
   {
    "duration": 4,
    "start_time": "2024-09-19T18:45:39.226Z"
   },
   {
    "duration": 595,
    "start_time": "2024-09-19T18:45:39.231Z"
   },
   {
    "duration": 24,
    "start_time": "2024-09-19T18:45:39.827Z"
   },
   {
    "duration": 58,
    "start_time": "2024-09-19T18:45:39.853Z"
   },
   {
    "duration": 4,
    "start_time": "2024-09-19T18:45:39.925Z"
   },
   {
    "duration": 5,
    "start_time": "2024-09-19T18:45:39.930Z"
   },
   {
    "duration": 22,
    "start_time": "2024-09-19T18:45:39.936Z"
   },
   {
    "duration": 4,
    "start_time": "2024-09-19T18:45:39.959Z"
   },
   {
    "duration": 26,
    "start_time": "2024-09-19T18:45:39.965Z"
   },
   {
    "duration": 37,
    "start_time": "2024-09-19T18:45:39.992Z"
   },
   {
    "duration": 4,
    "start_time": "2024-09-19T18:45:40.030Z"
   },
   {
    "duration": 19,
    "start_time": "2024-09-19T18:45:40.036Z"
   },
   {
    "duration": 28,
    "start_time": "2024-09-19T18:45:40.057Z"
   },
   {
    "duration": 300,
    "start_time": "2024-09-19T18:45:40.086Z"
   },
   {
    "duration": 3,
    "start_time": "2024-09-19T18:45:40.388Z"
   },
   {
    "duration": 26,
    "start_time": "2024-09-19T18:49:07.687Z"
   },
   {
    "duration": 3,
    "start_time": "2024-09-19T18:53:38.220Z"
   },
   {
    "duration": 30,
    "start_time": "2024-09-19T18:57:38.579Z"
   },
   {
    "duration": 4,
    "start_time": "2024-09-19T18:57:42.997Z"
   },
   {
    "duration": 3,
    "start_time": "2024-09-19T19:01:18.059Z"
   },
   {
    "duration": 18,
    "start_time": "2024-09-19T19:01:54.858Z"
   },
   {
    "duration": 16,
    "start_time": "2024-09-19T19:07:08.894Z"
   },
   {
    "duration": 3,
    "start_time": "2024-09-19T19:48:01.458Z"
   },
   {
    "duration": 3,
    "start_time": "2024-09-19T19:48:08.675Z"
   },
   {
    "duration": 3,
    "start_time": "2024-09-19T19:48:13.526Z"
   },
   {
    "duration": 3,
    "start_time": "2024-09-19T19:56:33.589Z"
   },
   {
    "duration": 4,
    "start_time": "2024-09-19T19:58:01.956Z"
   },
   {
    "duration": 4,
    "start_time": "2024-09-19T20:00:38.720Z"
   },
   {
    "duration": 26,
    "start_time": "2024-09-19T20:01:59.409Z"
   },
   {
    "duration": 5,
    "start_time": "2024-09-19T20:04:13.035Z"
   },
   {
    "duration": 4,
    "start_time": "2024-09-19T20:04:19.366Z"
   },
   {
    "duration": 6,
    "start_time": "2024-09-19T20:04:26.416Z"
   },
   {
    "duration": 5,
    "start_time": "2024-09-19T20:04:37.218Z"
   },
   {
    "duration": 7,
    "start_time": "2024-09-19T20:04:42.562Z"
   },
   {
    "duration": 6,
    "start_time": "2024-09-19T20:04:49.082Z"
   },
   {
    "duration": 23,
    "start_time": "2024-09-19T20:05:21.936Z"
   },
   {
    "duration": 4,
    "start_time": "2024-09-19T20:05:26.847Z"
   },
   {
    "duration": 4,
    "start_time": "2024-09-19T20:05:51.320Z"
   },
   {
    "duration": 15,
    "start_time": "2024-09-19T20:08:28.935Z"
   },
   {
    "duration": 43,
    "start_time": "2024-09-19T20:12:03.808Z"
   },
   {
    "duration": 92,
    "start_time": "2024-09-19T20:12:09.291Z"
   },
   {
    "duration": 15,
    "start_time": "2024-09-19T20:17:16.719Z"
   },
   {
    "duration": 16,
    "start_time": "2024-09-19T20:21:13.993Z"
   },
   {
    "duration": 17,
    "start_time": "2024-09-19T20:27:35.978Z"
   },
   {
    "duration": 764,
    "start_time": "2024-09-19T20:34:33.771Z"
   },
   {
    "duration": 3,
    "start_time": "2024-09-19T20:34:34.536Z"
   },
   {
    "duration": 103,
    "start_time": "2024-09-19T20:34:34.541Z"
   },
   {
    "duration": 10,
    "start_time": "2024-09-19T20:34:34.646Z"
   },
   {
    "duration": 9,
    "start_time": "2024-09-19T20:34:34.657Z"
   },
   {
    "duration": 30,
    "start_time": "2024-09-19T20:34:34.667Z"
   },
   {
    "duration": 53,
    "start_time": "2024-09-19T20:34:34.699Z"
   },
   {
    "duration": 57,
    "start_time": "2024-09-19T20:34:34.754Z"
   },
   {
    "duration": 121,
    "start_time": "2024-09-19T20:34:34.813Z"
   },
   {
    "duration": 25,
    "start_time": "2024-09-19T20:34:34.937Z"
   },
   {
    "duration": 3,
    "start_time": "2024-09-19T20:34:34.963Z"
   },
   {
    "duration": 566,
    "start_time": "2024-09-19T20:34:34.968Z"
   },
   {
    "duration": 24,
    "start_time": "2024-09-19T20:34:35.536Z"
   },
   {
    "duration": 67,
    "start_time": "2024-09-19T20:34:35.561Z"
   },
   {
    "duration": 4,
    "start_time": "2024-09-19T20:34:35.630Z"
   },
   {
    "duration": 5,
    "start_time": "2024-09-19T20:34:35.635Z"
   },
   {
    "duration": 23,
    "start_time": "2024-09-19T20:34:35.642Z"
   },
   {
    "duration": 5,
    "start_time": "2024-09-19T20:34:35.666Z"
   },
   {
    "duration": 54,
    "start_time": "2024-09-19T20:34:35.672Z"
   },
   {
    "duration": 7,
    "start_time": "2024-09-19T20:34:35.728Z"
   },
   {
    "duration": 3,
    "start_time": "2024-09-19T20:34:35.737Z"
   },
   {
    "duration": 15,
    "start_time": "2024-09-19T20:34:35.742Z"
   },
   {
    "duration": 15,
    "start_time": "2024-09-19T20:34:35.759Z"
   },
   {
    "duration": 109,
    "start_time": "2024-09-19T20:34:35.776Z"
   },
   {
    "duration": 787,
    "start_time": "2024-09-19T21:00:19.218Z"
   },
   {
    "duration": 3,
    "start_time": "2024-09-19T21:00:20.007Z"
   },
   {
    "duration": 104,
    "start_time": "2024-09-19T21:00:20.011Z"
   },
   {
    "duration": 14,
    "start_time": "2024-09-19T21:00:20.117Z"
   },
   {
    "duration": 7,
    "start_time": "2024-09-19T21:00:20.133Z"
   },
   {
    "duration": 30,
    "start_time": "2024-09-19T21:00:20.142Z"
   },
   {
    "duration": 52,
    "start_time": "2024-09-19T21:00:20.173Z"
   },
   {
    "duration": 59,
    "start_time": "2024-09-19T21:00:20.227Z"
   },
   {
    "duration": 115,
    "start_time": "2024-09-19T21:00:20.288Z"
   },
   {
    "duration": 31,
    "start_time": "2024-09-19T21:00:20.406Z"
   },
   {
    "duration": 3,
    "start_time": "2024-09-19T21:00:20.438Z"
   },
   {
    "duration": 566,
    "start_time": "2024-09-19T21:00:20.443Z"
   },
   {
    "duration": 32,
    "start_time": "2024-09-19T21:00:21.011Z"
   },
   {
    "duration": 69,
    "start_time": "2024-09-19T21:00:21.044Z"
   },
   {
    "duration": 4,
    "start_time": "2024-09-19T21:00:21.124Z"
   },
   {
    "duration": 5,
    "start_time": "2024-09-19T21:00:21.131Z"
   },
   {
    "duration": 24,
    "start_time": "2024-09-19T21:00:21.138Z"
   },
   {
    "duration": 4,
    "start_time": "2024-09-19T21:00:21.163Z"
   },
   {
    "duration": 58,
    "start_time": "2024-09-19T21:00:21.169Z"
   },
   {
    "duration": 16,
    "start_time": "2024-09-19T21:00:21.229Z"
   },
   {
    "duration": 3,
    "start_time": "2024-09-19T21:00:21.247Z"
   },
   {
    "duration": 15,
    "start_time": "2024-09-19T21:00:21.252Z"
   },
   {
    "duration": 16,
    "start_time": "2024-09-19T21:00:21.269Z"
   },
   {
    "duration": 104,
    "start_time": "2024-09-19T21:00:21.287Z"
   },
   {
    "duration": 2571,
    "start_time": "2024-09-20T00:22:44.397Z"
   },
   {
    "duration": 3,
    "start_time": "2024-09-20T00:22:46.970Z"
   },
   {
    "duration": 136,
    "start_time": "2024-09-20T00:22:46.975Z"
   },
   {
    "duration": 10,
    "start_time": "2024-09-20T00:22:47.113Z"
   },
   {
    "duration": 9,
    "start_time": "2024-09-20T00:22:47.125Z"
   },
   {
    "duration": 32,
    "start_time": "2024-09-20T00:22:47.135Z"
   },
   {
    "duration": 57,
    "start_time": "2024-09-20T00:22:47.169Z"
   },
   {
    "duration": 61,
    "start_time": "2024-09-20T00:22:47.228Z"
   },
   {
    "duration": 123,
    "start_time": "2024-09-20T00:22:47.291Z"
   },
   {
    "duration": 24,
    "start_time": "2024-09-20T00:22:47.416Z"
   },
   {
    "duration": 3,
    "start_time": "2024-09-20T00:22:47.442Z"
   },
   {
    "duration": 576,
    "start_time": "2024-09-20T00:22:47.447Z"
   },
   {
    "duration": 28,
    "start_time": "2024-09-20T00:22:48.025Z"
   },
   {
    "duration": 72,
    "start_time": "2024-09-20T00:22:48.056Z"
   },
   {
    "duration": 4,
    "start_time": "2024-09-20T00:22:48.129Z"
   },
   {
    "duration": 4,
    "start_time": "2024-09-20T00:22:48.135Z"
   },
   {
    "duration": 24,
    "start_time": "2024-09-20T00:22:48.141Z"
   },
   {
    "duration": 5,
    "start_time": "2024-09-20T00:22:48.167Z"
   },
   {
    "duration": 60,
    "start_time": "2024-09-20T00:22:48.173Z"
   },
   {
    "duration": 7,
    "start_time": "2024-09-20T00:22:48.235Z"
   },
   {
    "duration": 3,
    "start_time": "2024-09-20T00:22:48.243Z"
   },
   {
    "duration": 15,
    "start_time": "2024-09-20T00:22:48.248Z"
   },
   {
    "duration": 16,
    "start_time": "2024-09-20T00:22:48.265Z"
   },
   {
    "duration": 84,
    "start_time": "2024-09-20T00:22:48.311Z"
   },
   {
    "duration": 18,
    "start_time": "2024-09-20T00:23:55.942Z"
   },
   {
    "duration": 21,
    "start_time": "2024-09-20T00:24:18.130Z"
   },
   {
    "duration": 4,
    "start_time": "2024-09-20T00:24:52.517Z"
   },
   {
    "duration": 5,
    "start_time": "2024-09-20T00:25:16.751Z"
   },
   {
    "duration": 82,
    "start_time": "2024-09-20T00:28:14.270Z"
   },
   {
    "duration": 817,
    "start_time": "2024-09-20T00:28:40.485Z"
   },
   {
    "duration": 3,
    "start_time": "2024-09-20T00:28:41.304Z"
   },
   {
    "duration": 101,
    "start_time": "2024-09-20T00:28:41.312Z"
   },
   {
    "duration": 10,
    "start_time": "2024-09-20T00:28:41.415Z"
   },
   {
    "duration": 10,
    "start_time": "2024-09-20T00:28:41.426Z"
   },
   {
    "duration": 31,
    "start_time": "2024-09-20T00:28:41.437Z"
   },
   {
    "duration": 59,
    "start_time": "2024-09-20T00:28:41.470Z"
   },
   {
    "duration": 59,
    "start_time": "2024-09-20T00:28:41.530Z"
   },
   {
    "duration": 121,
    "start_time": "2024-09-20T00:28:41.591Z"
   },
   {
    "duration": 24,
    "start_time": "2024-09-20T00:28:41.715Z"
   },
   {
    "duration": 3,
    "start_time": "2024-09-20T00:28:41.741Z"
   },
   {
    "duration": 589,
    "start_time": "2024-09-20T00:28:41.746Z"
   },
   {
    "duration": 24,
    "start_time": "2024-09-20T00:28:42.337Z"
   },
   {
    "duration": 72,
    "start_time": "2024-09-20T00:28:42.362Z"
   },
   {
    "duration": 4,
    "start_time": "2024-09-20T00:28:42.435Z"
   },
   {
    "duration": 4,
    "start_time": "2024-09-20T00:28:42.441Z"
   },
   {
    "duration": 22,
    "start_time": "2024-09-20T00:28:42.447Z"
   },
   {
    "duration": 4,
    "start_time": "2024-09-20T00:28:42.471Z"
   },
   {
    "duration": 56,
    "start_time": "2024-09-20T00:28:42.477Z"
   },
   {
    "duration": 7,
    "start_time": "2024-09-20T00:28:42.535Z"
   },
   {
    "duration": 5,
    "start_time": "2024-09-20T00:28:42.544Z"
   },
   {
    "duration": 16,
    "start_time": "2024-09-20T00:28:42.551Z"
   },
   {
    "duration": 4,
    "start_time": "2024-09-20T00:28:42.569Z"
   },
   {
    "duration": 2,
    "start_time": "2024-09-20T00:28:42.575Z"
   },
   {
    "duration": 45,
    "start_time": "2024-09-20T00:28:42.579Z"
   },
   {
    "duration": 101,
    "start_time": "2024-09-20T00:28:42.626Z"
   },
   {
    "duration": 95,
    "start_time": "2024-09-20T00:28:42.729Z"
   },
   {
    "duration": 82,
    "start_time": "2024-09-20T00:28:48.858Z"
   },
   {
    "duration": 83,
    "start_time": "2024-09-20T00:30:32.732Z"
   },
   {
    "duration": 81,
    "start_time": "2024-09-20T00:33:49.491Z"
   },
   {
    "duration": 849,
    "start_time": "2024-09-20T00:47:25.850Z"
   },
   {
    "duration": 4,
    "start_time": "2024-09-20T00:47:26.701Z"
   },
   {
    "duration": 100,
    "start_time": "2024-09-20T00:47:26.707Z"
   },
   {
    "duration": 10,
    "start_time": "2024-09-20T00:47:26.811Z"
   },
   {
    "duration": 8,
    "start_time": "2024-09-20T00:47:26.822Z"
   },
   {
    "duration": 31,
    "start_time": "2024-09-20T00:47:26.832Z"
   },
   {
    "duration": 59,
    "start_time": "2024-09-20T00:47:26.865Z"
   },
   {
    "duration": 62,
    "start_time": "2024-09-20T00:47:26.926Z"
   },
   {
    "duration": 121,
    "start_time": "2024-09-20T00:47:26.990Z"
   },
   {
    "duration": 24,
    "start_time": "2024-09-20T00:47:27.115Z"
   },
   {
    "duration": 4,
    "start_time": "2024-09-20T00:47:27.141Z"
   },
   {
    "duration": 579,
    "start_time": "2024-09-20T00:47:27.146Z"
   },
   {
    "duration": 26,
    "start_time": "2024-09-20T00:47:27.727Z"
   },
   {
    "duration": 73,
    "start_time": "2024-09-20T00:47:27.754Z"
   },
   {
    "duration": 4,
    "start_time": "2024-09-20T00:47:27.829Z"
   },
   {
    "duration": 5,
    "start_time": "2024-09-20T00:47:27.835Z"
   },
   {
    "duration": 24,
    "start_time": "2024-09-20T00:47:27.842Z"
   },
   {
    "duration": 4,
    "start_time": "2024-09-20T00:47:27.868Z"
   },
   {
    "duration": 55,
    "start_time": "2024-09-20T00:47:27.875Z"
   },
   {
    "duration": 7,
    "start_time": "2024-09-20T00:47:27.932Z"
   },
   {
    "duration": 3,
    "start_time": "2024-09-20T00:47:27.940Z"
   },
   {
    "duration": 16,
    "start_time": "2024-09-20T00:47:27.945Z"
   },
   {
    "duration": 4,
    "start_time": "2024-09-20T00:47:27.963Z"
   },
   {
    "duration": 3,
    "start_time": "2024-09-20T00:47:27.969Z"
   },
   {
    "duration": 51,
    "start_time": "2024-09-20T00:47:27.974Z"
   },
   {
    "duration": 99,
    "start_time": "2024-09-20T00:47:28.032Z"
   },
   {
    "duration": 103,
    "start_time": "2024-09-20T00:47:28.133Z"
   },
   {
    "duration": 101,
    "start_time": "2024-09-20T00:47:28.241Z"
   },
   {
    "duration": 872,
    "start_time": "2024-09-20T01:56:52.925Z"
   },
   {
    "duration": 3,
    "start_time": "2024-09-20T01:56:53.799Z"
   },
   {
    "duration": 108,
    "start_time": "2024-09-20T01:56:53.811Z"
   },
   {
    "duration": 10,
    "start_time": "2024-09-20T01:56:53.921Z"
   },
   {
    "duration": 9,
    "start_time": "2024-09-20T01:56:53.932Z"
   },
   {
    "duration": 32,
    "start_time": "2024-09-20T01:56:53.942Z"
   },
   {
    "duration": 63,
    "start_time": "2024-09-20T01:56:53.976Z"
   },
   {
    "duration": 62,
    "start_time": "2024-09-20T01:56:54.041Z"
   },
   {
    "duration": 110,
    "start_time": "2024-09-20T01:56:54.111Z"
   },
   {
    "duration": 25,
    "start_time": "2024-09-20T01:56:54.225Z"
   },
   {
    "duration": 4,
    "start_time": "2024-09-20T01:56:54.251Z"
   },
   {
    "duration": 594,
    "start_time": "2024-09-20T01:56:54.256Z"
   },
   {
    "duration": 27,
    "start_time": "2024-09-20T01:56:54.851Z"
   },
   {
    "duration": 75,
    "start_time": "2024-09-20T01:56:54.881Z"
   },
   {
    "duration": 5,
    "start_time": "2024-09-20T01:56:54.958Z"
   },
   {
    "duration": 4,
    "start_time": "2024-09-20T01:56:54.964Z"
   },
   {
    "duration": 23,
    "start_time": "2024-09-20T01:56:54.970Z"
   },
   {
    "duration": 7,
    "start_time": "2024-09-20T01:56:55.011Z"
   },
   {
    "duration": 28,
    "start_time": "2024-09-20T01:56:55.020Z"
   },
   {
    "duration": 7,
    "start_time": "2024-09-20T01:56:55.051Z"
   },
   {
    "duration": 4,
    "start_time": "2024-09-20T01:56:55.060Z"
   },
   {
    "duration": 16,
    "start_time": "2024-09-20T01:56:55.065Z"
   },
   {
    "duration": 30,
    "start_time": "2024-09-20T01:56:55.082Z"
   },
   {
    "duration": 4,
    "start_time": "2024-09-20T01:56:55.114Z"
   },
   {
    "duration": 16,
    "start_time": "2024-09-20T01:56:55.120Z"
   },
   {
    "duration": 111,
    "start_time": "2024-09-20T01:56:55.137Z"
   },
   {
    "duration": 106,
    "start_time": "2024-09-20T01:56:55.250Z"
   },
   {
    "duration": 98,
    "start_time": "2024-09-20T01:56:55.361Z"
   },
   {
    "duration": 5,
    "start_time": "2024-09-20T01:59:30.257Z"
   },
   {
    "duration": 879,
    "start_time": "2024-09-20T02:00:21.417Z"
   },
   {
    "duration": 2,
    "start_time": "2024-09-20T02:00:22.299Z"
   },
   {
    "duration": 99,
    "start_time": "2024-09-20T02:00:22.312Z"
   },
   {
    "duration": 10,
    "start_time": "2024-09-20T02:00:22.414Z"
   },
   {
    "duration": 9,
    "start_time": "2024-09-20T02:00:22.425Z"
   },
   {
    "duration": 33,
    "start_time": "2024-09-20T02:00:22.436Z"
   },
   {
    "duration": 53,
    "start_time": "2024-09-20T02:00:22.472Z"
   },
   {
    "duration": 61,
    "start_time": "2024-09-20T02:00:22.527Z"
   },
   {
    "duration": 122,
    "start_time": "2024-09-20T02:00:22.591Z"
   },
   {
    "duration": 25,
    "start_time": "2024-09-20T02:00:22.716Z"
   },
   {
    "duration": 3,
    "start_time": "2024-09-20T02:00:22.742Z"
   },
   {
    "duration": 580,
    "start_time": "2024-09-20T02:00:22.747Z"
   },
   {
    "duration": 25,
    "start_time": "2024-09-20T02:00:23.329Z"
   },
   {
    "duration": 78,
    "start_time": "2024-09-20T02:00:23.356Z"
   },
   {
    "duration": 4,
    "start_time": "2024-09-20T02:00:23.435Z"
   },
   {
    "duration": 4,
    "start_time": "2024-09-20T02:00:23.441Z"
   },
   {
    "duration": 24,
    "start_time": "2024-09-20T02:00:23.447Z"
   },
   {
    "duration": 4,
    "start_time": "2024-09-20T02:00:23.474Z"
   },
   {
    "duration": 57,
    "start_time": "2024-09-20T02:00:23.480Z"
   },
   {
    "duration": 6,
    "start_time": "2024-09-20T02:00:23.539Z"
   },
   {
    "duration": 3,
    "start_time": "2024-09-20T02:00:23.547Z"
   },
   {
    "duration": 16,
    "start_time": "2024-09-20T02:00:23.551Z"
   },
   {
    "duration": 4,
    "start_time": "2024-09-20T02:00:23.569Z"
   },
   {
    "duration": 3,
    "start_time": "2024-09-20T02:00:23.575Z"
   },
   {
    "duration": 47,
    "start_time": "2024-09-20T02:00:23.579Z"
   },
   {
    "duration": 108,
    "start_time": "2024-09-20T02:00:23.627Z"
   },
   {
    "duration": 100,
    "start_time": "2024-09-20T02:00:23.737Z"
   },
   {
    "duration": 108,
    "start_time": "2024-09-20T02:00:23.841Z"
   },
   {
    "duration": 5,
    "start_time": "2024-09-20T02:00:23.950Z"
   },
   {
    "duration": 852,
    "start_time": "2024-09-20T02:15:11.649Z"
   },
   {
    "duration": 3,
    "start_time": "2024-09-20T02:15:12.504Z"
   },
   {
    "duration": 111,
    "start_time": "2024-09-20T02:15:12.512Z"
   },
   {
    "duration": 10,
    "start_time": "2024-09-20T02:15:12.625Z"
   },
   {
    "duration": 9,
    "start_time": "2024-09-20T02:15:12.637Z"
   },
   {
    "duration": 34,
    "start_time": "2024-09-20T02:15:12.647Z"
   },
   {
    "duration": 55,
    "start_time": "2024-09-20T02:15:12.683Z"
   },
   {
    "duration": 60,
    "start_time": "2024-09-20T02:15:12.740Z"
   },
   {
    "duration": 111,
    "start_time": "2024-09-20T02:15:12.811Z"
   },
   {
    "duration": 25,
    "start_time": "2024-09-20T02:15:12.925Z"
   },
   {
    "duration": 4,
    "start_time": "2024-09-20T02:15:12.951Z"
   },
   {
    "duration": 558,
    "start_time": "2024-09-20T02:15:12.956Z"
   },
   {
    "duration": 24,
    "start_time": "2024-09-20T02:15:13.516Z"
   },
   {
    "duration": 81,
    "start_time": "2024-09-20T02:15:13.542Z"
   },
   {
    "duration": 4,
    "start_time": "2024-09-20T02:15:13.625Z"
   },
   {
    "duration": 4,
    "start_time": "2024-09-20T02:15:13.631Z"
   },
   {
    "duration": 24,
    "start_time": "2024-09-20T02:15:13.637Z"
   },
   {
    "duration": 4,
    "start_time": "2024-09-20T02:15:13.662Z"
   },
   {
    "duration": 59,
    "start_time": "2024-09-20T02:15:13.668Z"
   },
   {
    "duration": 7,
    "start_time": "2024-09-20T02:15:13.729Z"
   },
   {
    "duration": 3,
    "start_time": "2024-09-20T02:15:13.738Z"
   },
   {
    "duration": 15,
    "start_time": "2024-09-20T02:15:13.743Z"
   },
   {
    "duration": 4,
    "start_time": "2024-09-20T02:15:13.760Z"
   },
   {
    "duration": 3,
    "start_time": "2024-09-20T02:15:13.766Z"
   },
   {
    "duration": 49,
    "start_time": "2024-09-20T02:15:13.770Z"
   },
   {
    "duration": 99,
    "start_time": "2024-09-20T02:15:13.821Z"
   },
   {
    "duration": 100,
    "start_time": "2024-09-20T02:15:13.922Z"
   },
   {
    "duration": 103,
    "start_time": "2024-09-20T02:15:14.026Z"
   },
   {
    "duration": 6,
    "start_time": "2024-09-20T02:15:14.131Z"
   },
   {
    "duration": 101,
    "start_time": "2024-09-20T02:15:14.139Z"
   },
   {
    "duration": 104,
    "start_time": "2024-09-20T02:15:14.242Z"
   },
   {
    "duration": 101,
    "start_time": "2024-09-20T02:15:14.347Z"
   },
   {
    "duration": 851,
    "start_time": "2024-09-20T02:19:18.155Z"
   },
   {
    "duration": 3,
    "start_time": "2024-09-20T02:19:19.009Z"
   },
   {
    "duration": 107,
    "start_time": "2024-09-20T02:19:19.014Z"
   },
   {
    "duration": 10,
    "start_time": "2024-09-20T02:19:19.122Z"
   },
   {
    "duration": 8,
    "start_time": "2024-09-20T02:19:19.134Z"
   },
   {
    "duration": 33,
    "start_time": "2024-09-20T02:19:19.144Z"
   },
   {
    "duration": 63,
    "start_time": "2024-09-20T02:19:19.178Z"
   },
   {
    "duration": 72,
    "start_time": "2024-09-20T02:19:19.243Z"
   },
   {
    "duration": 114,
    "start_time": "2024-09-20T02:19:19.317Z"
   },
   {
    "duration": 28,
    "start_time": "2024-09-20T02:19:19.433Z"
   },
   {
    "duration": 3,
    "start_time": "2024-09-20T02:19:19.463Z"
   },
   {
    "duration": 610,
    "start_time": "2024-09-20T02:19:19.468Z"
   },
   {
    "duration": 32,
    "start_time": "2024-09-20T02:19:20.079Z"
   },
   {
    "duration": 60,
    "start_time": "2024-09-20T02:19:20.115Z"
   },
   {
    "duration": 4,
    "start_time": "2024-09-20T02:19:20.177Z"
   },
   {
    "duration": 4,
    "start_time": "2024-09-20T02:19:20.183Z"
   },
   {
    "duration": 45,
    "start_time": "2024-09-20T02:19:20.189Z"
   },
   {
    "duration": 4,
    "start_time": "2024-09-20T02:19:20.236Z"
   },
   {
    "duration": 27,
    "start_time": "2024-09-20T02:19:20.242Z"
   },
   {
    "duration": 7,
    "start_time": "2024-09-20T02:19:20.270Z"
   },
   {
    "duration": 3,
    "start_time": "2024-09-20T02:19:20.279Z"
   },
   {
    "duration": 41,
    "start_time": "2024-09-20T02:19:20.284Z"
   },
   {
    "duration": 4,
    "start_time": "2024-09-20T02:19:20.327Z"
   },
   {
    "duration": 3,
    "start_time": "2024-09-20T02:19:20.333Z"
   },
   {
    "duration": 14,
    "start_time": "2024-09-20T02:19:20.337Z"
   },
   {
    "duration": 114,
    "start_time": "2024-09-20T02:19:20.353Z"
   },
   {
    "duration": 108,
    "start_time": "2024-09-20T02:19:20.469Z"
   },
   {
    "duration": 105,
    "start_time": "2024-09-20T02:19:20.579Z"
   },
   {
    "duration": 6,
    "start_time": "2024-09-20T02:19:20.686Z"
   },
   {
    "duration": 103,
    "start_time": "2024-09-20T02:19:20.694Z"
   },
   {
    "duration": 114,
    "start_time": "2024-09-20T02:19:20.799Z"
   },
   {
    "duration": 98,
    "start_time": "2024-09-20T02:19:20.915Z"
   },
   {
    "duration": 847,
    "start_time": "2024-09-20T02:20:40.163Z"
   },
   {
    "duration": 2,
    "start_time": "2024-09-20T02:20:41.012Z"
   },
   {
    "duration": 105,
    "start_time": "2024-09-20T02:20:41.016Z"
   },
   {
    "duration": 10,
    "start_time": "2024-09-20T02:20:41.123Z"
   },
   {
    "duration": 8,
    "start_time": "2024-09-20T02:20:41.135Z"
   },
   {
    "duration": 31,
    "start_time": "2024-09-20T02:20:41.145Z"
   },
   {
    "duration": 59,
    "start_time": "2024-09-20T02:20:41.178Z"
   },
   {
    "duration": 60,
    "start_time": "2024-09-20T02:20:41.240Z"
   },
   {
    "duration": 119,
    "start_time": "2024-09-20T02:20:41.302Z"
   },
   {
    "duration": 25,
    "start_time": "2024-09-20T02:20:41.422Z"
   },
   {
    "duration": 3,
    "start_time": "2024-09-20T02:20:41.449Z"
   },
   {
    "duration": 551,
    "start_time": "2024-09-20T02:20:41.454Z"
   },
   {
    "duration": 24,
    "start_time": "2024-09-20T02:20:42.007Z"
   },
   {
    "duration": 77,
    "start_time": "2024-09-20T02:20:42.035Z"
   },
   {
    "duration": 4,
    "start_time": "2024-09-20T02:20:42.114Z"
   },
   {
    "duration": 5,
    "start_time": "2024-09-20T02:20:42.120Z"
   },
   {
    "duration": 23,
    "start_time": "2024-09-20T02:20:42.127Z"
   },
   {
    "duration": 4,
    "start_time": "2024-09-20T02:20:42.151Z"
   },
   {
    "duration": 60,
    "start_time": "2024-09-20T02:20:42.157Z"
   },
   {
    "duration": 8,
    "start_time": "2024-09-20T02:20:42.219Z"
   },
   {
    "duration": 4,
    "start_time": "2024-09-20T02:20:42.229Z"
   },
   {
    "duration": 17,
    "start_time": "2024-09-20T02:20:42.234Z"
   },
   {
    "duration": 4,
    "start_time": "2024-09-20T02:20:42.252Z"
   },
   {
    "duration": 2,
    "start_time": "2024-09-20T02:20:42.258Z"
   },
   {
    "duration": 50,
    "start_time": "2024-09-20T02:20:42.262Z"
   },
   {
    "duration": 84,
    "start_time": "2024-09-20T02:20:42.314Z"
   },
   {
    "duration": 100,
    "start_time": "2024-09-20T02:20:42.412Z"
   },
   {
    "duration": 116,
    "start_time": "2024-09-20T02:20:42.513Z"
   },
   {
    "duration": 5,
    "start_time": "2024-09-20T02:20:42.631Z"
   },
   {
    "duration": 99,
    "start_time": "2024-09-20T02:20:42.639Z"
   },
   {
    "duration": 98,
    "start_time": "2024-09-20T02:20:42.740Z"
   },
   {
    "duration": 99,
    "start_time": "2024-09-20T02:20:42.840Z"
   },
   {
    "duration": 853,
    "start_time": "2024-09-20T02:25:35.845Z"
   },
   {
    "duration": 3,
    "start_time": "2024-09-20T02:25:36.700Z"
   },
   {
    "duration": 104,
    "start_time": "2024-09-20T02:25:36.712Z"
   },
   {
    "duration": 10,
    "start_time": "2024-09-20T02:25:36.818Z"
   },
   {
    "duration": 9,
    "start_time": "2024-09-20T02:25:36.830Z"
   },
   {
    "duration": 35,
    "start_time": "2024-09-20T02:25:36.840Z"
   },
   {
    "duration": 58,
    "start_time": "2024-09-20T02:25:36.877Z"
   },
   {
    "duration": 63,
    "start_time": "2024-09-20T02:25:36.937Z"
   },
   {
    "duration": 110,
    "start_time": "2024-09-20T02:25:37.013Z"
   },
   {
    "duration": 25,
    "start_time": "2024-09-20T02:25:37.126Z"
   },
   {
    "duration": 4,
    "start_time": "2024-09-20T02:25:37.152Z"
   },
   {
    "duration": 565,
    "start_time": "2024-09-20T02:25:37.158Z"
   },
   {
    "duration": 26,
    "start_time": "2024-09-20T02:25:37.724Z"
   },
   {
    "duration": 74,
    "start_time": "2024-09-20T02:25:37.752Z"
   },
   {
    "duration": 4,
    "start_time": "2024-09-20T02:25:37.827Z"
   },
   {
    "duration": 5,
    "start_time": "2024-09-20T02:25:37.833Z"
   },
   {
    "duration": 24,
    "start_time": "2024-09-20T02:25:37.840Z"
   },
   {
    "duration": 4,
    "start_time": "2024-09-20T02:25:37.866Z"
   },
   {
    "duration": 56,
    "start_time": "2024-09-20T02:25:37.872Z"
   },
   {
    "duration": 8,
    "start_time": "2024-09-20T02:25:37.931Z"
   },
   {
    "duration": 3,
    "start_time": "2024-09-20T02:25:37.942Z"
   },
   {
    "duration": 16,
    "start_time": "2024-09-20T02:25:37.946Z"
   },
   {
    "duration": 4,
    "start_time": "2024-09-20T02:25:37.965Z"
   },
   {
    "duration": 3,
    "start_time": "2024-09-20T02:25:37.970Z"
   },
   {
    "duration": 52,
    "start_time": "2024-09-20T02:25:37.974Z"
   },
   {
    "duration": 106,
    "start_time": "2024-09-20T02:25:38.028Z"
   },
   {
    "duration": 100,
    "start_time": "2024-09-20T02:25:38.136Z"
   },
   {
    "duration": 100,
    "start_time": "2024-09-20T02:25:38.239Z"
   },
   {
    "duration": 5,
    "start_time": "2024-09-20T02:25:38.341Z"
   },
   {
    "duration": 103,
    "start_time": "2024-09-20T02:25:38.347Z"
   },
   {
    "duration": 107,
    "start_time": "2024-09-20T02:25:38.452Z"
   },
   {
    "duration": 102,
    "start_time": "2024-09-20T02:25:38.561Z"
   },
   {
    "duration": 868,
    "start_time": "2024-09-20T02:47:08.533Z"
   },
   {
    "duration": 2,
    "start_time": "2024-09-20T02:47:09.404Z"
   },
   {
    "duration": 102,
    "start_time": "2024-09-20T02:47:09.412Z"
   },
   {
    "duration": 11,
    "start_time": "2024-09-20T02:47:09.517Z"
   },
   {
    "duration": 9,
    "start_time": "2024-09-20T02:47:09.529Z"
   },
   {
    "duration": 33,
    "start_time": "2024-09-20T02:47:09.540Z"
   },
   {
    "duration": 63,
    "start_time": "2024-09-20T02:47:09.575Z"
   },
   {
    "duration": 73,
    "start_time": "2024-09-20T02:47:09.640Z"
   },
   {
    "duration": 116,
    "start_time": "2024-09-20T02:47:09.715Z"
   },
   {
    "duration": 25,
    "start_time": "2024-09-20T02:47:09.834Z"
   },
   {
    "duration": 3,
    "start_time": "2024-09-20T02:47:09.861Z"
   },
   {
    "duration": 599,
    "start_time": "2024-09-20T02:47:09.867Z"
   },
   {
    "duration": 26,
    "start_time": "2024-09-20T02:47:10.468Z"
   },
   {
    "duration": 75,
    "start_time": "2024-09-20T02:47:10.496Z"
   },
   {
    "duration": 3,
    "start_time": "2024-09-20T02:47:10.573Z"
   },
   {
    "duration": 5,
    "start_time": "2024-09-20T02:47:10.578Z"
   },
   {
    "duration": 44,
    "start_time": "2024-09-20T02:47:10.585Z"
   },
   {
    "duration": 5,
    "start_time": "2024-09-20T02:47:10.631Z"
   },
   {
    "duration": 32,
    "start_time": "2024-09-20T02:47:10.638Z"
   },
   {
    "duration": 7,
    "start_time": "2024-09-20T02:47:10.672Z"
   },
   {
    "duration": 3,
    "start_time": "2024-09-20T02:47:10.681Z"
   },
   {
    "duration": 17,
    "start_time": "2024-09-20T02:47:10.712Z"
   },
   {
    "duration": 5,
    "start_time": "2024-09-20T02:47:10.730Z"
   },
   {
    "duration": 3,
    "start_time": "2024-09-20T02:47:10.736Z"
   },
   {
    "duration": 16,
    "start_time": "2024-09-20T02:47:10.740Z"
   },
   {
    "duration": 124,
    "start_time": "2024-09-20T02:47:10.758Z"
   },
   {
    "duration": 102,
    "start_time": "2024-09-20T02:47:10.885Z"
   },
   {
    "duration": 98,
    "start_time": "2024-09-20T02:47:10.991Z"
   },
   {
    "duration": 5,
    "start_time": "2024-09-20T02:47:11.090Z"
   },
   {
    "duration": 100,
    "start_time": "2024-09-20T02:47:11.096Z"
   },
   {
    "duration": 98,
    "start_time": "2024-09-20T02:47:11.198Z"
   },
   {
    "duration": 86,
    "start_time": "2024-09-20T02:47:11.312Z"
   },
   {
    "duration": 841,
    "start_time": "2024-09-20T02:49:34.716Z"
   },
   {
    "duration": 2,
    "start_time": "2024-09-20T02:49:35.559Z"
   },
   {
    "duration": 101,
    "start_time": "2024-09-20T02:49:35.563Z"
   },
   {
    "duration": 10,
    "start_time": "2024-09-20T02:49:35.667Z"
   },
   {
    "duration": 9,
    "start_time": "2024-09-20T02:49:35.679Z"
   },
   {
    "duration": 52,
    "start_time": "2024-09-20T02:49:35.689Z"
   },
   {
    "duration": 34,
    "start_time": "2024-09-20T02:49:35.743Z"
   },
   {
    "duration": 74,
    "start_time": "2024-09-20T02:49:35.779Z"
   },
   {
    "duration": 114,
    "start_time": "2024-09-20T02:49:35.855Z"
   },
   {
    "duration": 25,
    "start_time": "2024-09-20T02:49:35.973Z"
   },
   {
    "duration": 14,
    "start_time": "2024-09-20T02:49:35.999Z"
   },
   {
    "duration": 585,
    "start_time": "2024-09-20T02:49:36.014Z"
   },
   {
    "duration": 30,
    "start_time": "2024-09-20T02:49:36.601Z"
   },
   {
    "duration": 62,
    "start_time": "2024-09-20T02:49:36.633Z"
   },
   {
    "duration": 17,
    "start_time": "2024-09-20T02:49:36.696Z"
   },
   {
    "duration": 5,
    "start_time": "2024-09-20T02:49:36.715Z"
   },
   {
    "duration": 23,
    "start_time": "2024-09-20T02:49:36.722Z"
   },
   {
    "duration": 4,
    "start_time": "2024-09-20T02:49:36.747Z"
   },
   {
    "duration": 59,
    "start_time": "2024-09-20T02:49:36.753Z"
   },
   {
    "duration": 8,
    "start_time": "2024-09-20T02:49:36.813Z"
   },
   {
    "duration": 3,
    "start_time": "2024-09-20T02:49:36.823Z"
   },
   {
    "duration": 16,
    "start_time": "2024-09-20T02:49:36.828Z"
   },
   {
    "duration": 5,
    "start_time": "2024-09-20T02:49:36.845Z"
   },
   {
    "duration": 2,
    "start_time": "2024-09-20T02:49:36.852Z"
   },
   {
    "duration": 15,
    "start_time": "2024-09-20T02:49:36.855Z"
   },
   {
    "duration": 127,
    "start_time": "2024-09-20T02:49:36.872Z"
   },
   {
    "duration": 105,
    "start_time": "2024-09-20T02:49:37.012Z"
   },
   {
    "duration": 108,
    "start_time": "2024-09-20T02:49:37.121Z"
   },
   {
    "duration": 5,
    "start_time": "2024-09-20T02:49:37.231Z"
   },
   {
    "duration": 100,
    "start_time": "2024-09-20T02:49:37.237Z"
   },
   {
    "duration": 98,
    "start_time": "2024-09-20T02:49:37.339Z"
   },
   {
    "duration": 102,
    "start_time": "2024-09-20T02:49:37.439Z"
   },
   {
    "duration": 82,
    "start_time": "2024-09-20T02:57:50.962Z"
   },
   {
    "duration": 92,
    "start_time": "2024-09-20T02:58:14.867Z"
   },
   {
    "duration": 806,
    "start_time": "2024-09-20T02:58:20.610Z"
   },
   {
    "duration": 3,
    "start_time": "2024-09-20T02:58:21.418Z"
   },
   {
    "duration": 101,
    "start_time": "2024-09-20T02:58:21.422Z"
   },
   {
    "duration": 10,
    "start_time": "2024-09-20T02:58:21.526Z"
   },
   {
    "duration": 8,
    "start_time": "2024-09-20T02:58:21.538Z"
   },
   {
    "duration": 33,
    "start_time": "2024-09-20T02:58:21.547Z"
   },
   {
    "duration": 65,
    "start_time": "2024-09-20T02:58:21.582Z"
   },
   {
    "duration": 73,
    "start_time": "2024-09-20T02:58:21.649Z"
   },
   {
    "duration": 120,
    "start_time": "2024-09-20T02:58:21.724Z"
   },
   {
    "duration": 25,
    "start_time": "2024-09-20T02:58:21.848Z"
   },
   {
    "duration": 4,
    "start_time": "2024-09-20T02:58:21.875Z"
   },
   {
    "duration": 590,
    "start_time": "2024-09-20T02:58:21.880Z"
   },
   {
    "duration": 25,
    "start_time": "2024-09-20T02:58:22.472Z"
   },
   {
    "duration": 70,
    "start_time": "2024-09-20T02:58:22.499Z"
   },
   {
    "duration": 3,
    "start_time": "2024-09-20T02:58:22.571Z"
   },
   {
    "duration": 5,
    "start_time": "2024-09-20T02:58:22.576Z"
   },
   {
    "duration": 45,
    "start_time": "2024-09-20T02:58:22.582Z"
   },
   {
    "duration": 4,
    "start_time": "2024-09-20T02:58:22.629Z"
   },
   {
    "duration": 28,
    "start_time": "2024-09-20T02:58:22.634Z"
   },
   {
    "duration": 8,
    "start_time": "2024-09-20T02:58:22.664Z"
   },
   {
    "duration": 4,
    "start_time": "2024-09-20T02:58:22.673Z"
   },
   {
    "duration": 44,
    "start_time": "2024-09-20T02:58:22.678Z"
   },
   {
    "duration": 4,
    "start_time": "2024-09-20T02:58:22.725Z"
   },
   {
    "duration": 3,
    "start_time": "2024-09-20T02:58:22.731Z"
   },
   {
    "duration": 14,
    "start_time": "2024-09-20T02:58:22.735Z"
   },
   {
    "duration": 109,
    "start_time": "2024-09-20T02:58:22.751Z"
   },
   {
    "duration": 101,
    "start_time": "2024-09-20T02:58:22.862Z"
   },
   {
    "duration": 103,
    "start_time": "2024-09-20T02:58:22.967Z"
   },
   {
    "duration": 6,
    "start_time": "2024-09-20T02:58:23.072Z"
   },
   {
    "duration": 105,
    "start_time": "2024-09-20T02:58:23.079Z"
   },
   {
    "duration": 127,
    "start_time": "2024-09-20T02:58:23.186Z"
   },
   {
    "duration": 117,
    "start_time": "2024-09-20T02:58:23.315Z"
   },
   {
    "duration": 831,
    "start_time": "2024-09-20T03:04:06.762Z"
   },
   {
    "duration": 3,
    "start_time": "2024-09-20T03:04:07.594Z"
   },
   {
    "duration": 111,
    "start_time": "2024-09-20T03:04:07.599Z"
   },
   {
    "duration": 11,
    "start_time": "2024-09-20T03:04:07.712Z"
   },
   {
    "duration": 10,
    "start_time": "2024-09-20T03:04:07.726Z"
   },
   {
    "duration": 37,
    "start_time": "2024-09-20T03:04:07.737Z"
   },
   {
    "duration": 62,
    "start_time": "2024-09-20T03:04:07.776Z"
   },
   {
    "duration": 71,
    "start_time": "2024-09-20T03:04:07.841Z"
   },
   {
    "duration": 110,
    "start_time": "2024-09-20T03:04:07.914Z"
   },
   {
    "duration": 29,
    "start_time": "2024-09-20T03:04:08.028Z"
   },
   {
    "duration": 4,
    "start_time": "2024-09-20T03:04:08.058Z"
   },
   {
    "duration": 570,
    "start_time": "2024-09-20T03:04:08.064Z"
   },
   {
    "duration": 23,
    "start_time": "2024-09-20T03:04:08.636Z"
   },
   {
    "duration": 74,
    "start_time": "2024-09-20T03:04:08.661Z"
   },
   {
    "duration": 7,
    "start_time": "2024-09-20T03:04:08.736Z"
   },
   {
    "duration": 4,
    "start_time": "2024-09-20T03:04:08.745Z"
   },
   {
    "duration": 25,
    "start_time": "2024-09-20T03:04:08.751Z"
   },
   {
    "duration": 4,
    "start_time": "2024-09-20T03:04:08.778Z"
   },
   {
    "duration": 57,
    "start_time": "2024-09-20T03:04:08.784Z"
   },
   {
    "duration": 8,
    "start_time": "2024-09-20T03:04:08.842Z"
   },
   {
    "duration": 3,
    "start_time": "2024-09-20T03:04:08.851Z"
   },
   {
    "duration": 17,
    "start_time": "2024-09-20T03:04:08.856Z"
   },
   {
    "duration": 5,
    "start_time": "2024-09-20T03:04:08.875Z"
   },
   {
    "duration": 3,
    "start_time": "2024-09-20T03:04:08.881Z"
   },
   {
    "duration": 15,
    "start_time": "2024-09-20T03:04:08.912Z"
   },
   {
    "duration": 105,
    "start_time": "2024-09-20T03:04:08.930Z"
   },
   {
    "duration": 102,
    "start_time": "2024-09-20T03:04:09.037Z"
   },
   {
    "duration": 103,
    "start_time": "2024-09-20T03:04:09.143Z"
   },
   {
    "duration": 5,
    "start_time": "2024-09-20T03:04:09.247Z"
   },
   {
    "duration": 113,
    "start_time": "2024-09-20T03:04:09.254Z"
   },
   {
    "duration": 99,
    "start_time": "2024-09-20T03:04:09.369Z"
   },
   {
    "duration": 112,
    "start_time": "2024-09-20T03:04:09.470Z"
   },
   {
    "duration": 856,
    "start_time": "2024-09-20T03:04:31.947Z"
   },
   {
    "duration": 7,
    "start_time": "2024-09-20T03:04:32.805Z"
   },
   {
    "duration": 104,
    "start_time": "2024-09-20T03:04:32.814Z"
   },
   {
    "duration": 10,
    "start_time": "2024-09-20T03:04:32.921Z"
   },
   {
    "duration": 8,
    "start_time": "2024-09-20T03:04:32.933Z"
   },
   {
    "duration": 35,
    "start_time": "2024-09-20T03:04:32.942Z"
   },
   {
    "duration": 58,
    "start_time": "2024-09-20T03:04:32.979Z"
   },
   {
    "duration": 61,
    "start_time": "2024-09-20T03:04:33.039Z"
   },
   {
    "duration": 112,
    "start_time": "2024-09-20T03:04:33.112Z"
   },
   {
    "duration": 24,
    "start_time": "2024-09-20T03:04:33.228Z"
   },
   {
    "duration": 3,
    "start_time": "2024-09-20T03:04:33.254Z"
   },
   {
    "duration": 563,
    "start_time": "2024-09-20T03:04:33.259Z"
   },
   {
    "duration": 25,
    "start_time": "2024-09-20T03:04:33.824Z"
   },
   {
    "duration": 79,
    "start_time": "2024-09-20T03:04:33.851Z"
   },
   {
    "duration": 4,
    "start_time": "2024-09-20T03:04:33.931Z"
   },
   {
    "duration": 5,
    "start_time": "2024-09-20T03:04:33.937Z"
   },
   {
    "duration": 25,
    "start_time": "2024-09-20T03:04:33.944Z"
   },
   {
    "duration": 4,
    "start_time": "2024-09-20T03:04:33.971Z"
   },
   {
    "duration": 57,
    "start_time": "2024-09-20T03:04:33.977Z"
   },
   {
    "duration": 8,
    "start_time": "2024-09-20T03:04:34.036Z"
   },
   {
    "duration": 3,
    "start_time": "2024-09-20T03:04:34.046Z"
   },
   {
    "duration": 16,
    "start_time": "2024-09-20T03:04:34.050Z"
   },
   {
    "duration": 4,
    "start_time": "2024-09-20T03:04:34.068Z"
   },
   {
    "duration": 4,
    "start_time": "2024-09-20T03:04:34.074Z"
   },
   {
    "duration": 43,
    "start_time": "2024-09-20T03:04:34.080Z"
   },
   {
    "duration": 104,
    "start_time": "2024-09-20T03:04:34.125Z"
   },
   {
    "duration": 108,
    "start_time": "2024-09-20T03:04:34.231Z"
   },
   {
    "duration": 99,
    "start_time": "2024-09-20T03:04:34.343Z"
   },
   {
    "duration": 4,
    "start_time": "2024-09-20T03:04:34.444Z"
   },
   {
    "duration": 105,
    "start_time": "2024-09-20T03:04:34.450Z"
   },
   {
    "duration": 104,
    "start_time": "2024-09-20T03:04:34.558Z"
   },
   {
    "duration": 115,
    "start_time": "2024-09-20T03:04:34.664Z"
   },
   {
    "duration": 2528,
    "start_time": "2024-09-20T04:18:29.233Z"
   },
   {
    "duration": 3,
    "start_time": "2024-09-20T04:18:31.763Z"
   },
   {
    "duration": 146,
    "start_time": "2024-09-20T04:18:31.768Z"
   },
   {
    "duration": 9,
    "start_time": "2024-09-20T04:18:31.917Z"
   },
   {
    "duration": 8,
    "start_time": "2024-09-20T04:18:31.928Z"
   },
   {
    "duration": 31,
    "start_time": "2024-09-20T04:18:31.937Z"
   },
   {
    "duration": 33,
    "start_time": "2024-09-20T04:18:31.970Z"
   },
   {
    "duration": 76,
    "start_time": "2024-09-20T04:18:32.005Z"
   },
   {
    "duration": 122,
    "start_time": "2024-09-20T04:18:32.082Z"
   },
   {
    "duration": 31,
    "start_time": "2024-09-20T04:18:32.207Z"
   },
   {
    "duration": 3,
    "start_time": "2024-09-20T04:18:32.240Z"
   },
   {
    "duration": 571,
    "start_time": "2024-09-20T04:18:32.245Z"
   },
   {
    "duration": 24,
    "start_time": "2024-09-20T04:18:32.823Z"
   },
   {
    "duration": 62,
    "start_time": "2024-09-20T04:18:32.849Z"
   },
   {
    "duration": 4,
    "start_time": "2024-09-20T04:18:32.925Z"
   },
   {
    "duration": 5,
    "start_time": "2024-09-20T04:18:32.931Z"
   },
   {
    "duration": 24,
    "start_time": "2024-09-20T04:18:32.938Z"
   },
   {
    "duration": 4,
    "start_time": "2024-09-20T04:18:32.963Z"
   },
   {
    "duration": 56,
    "start_time": "2024-09-20T04:18:32.969Z"
   },
   {
    "duration": 7,
    "start_time": "2024-09-20T04:18:33.028Z"
   },
   {
    "duration": 3,
    "start_time": "2024-09-20T04:18:33.037Z"
   },
   {
    "duration": 16,
    "start_time": "2024-09-20T04:18:33.041Z"
   },
   {
    "duration": 4,
    "start_time": "2024-09-20T04:18:33.059Z"
   },
   {
    "duration": 2,
    "start_time": "2024-09-20T04:18:33.065Z"
   },
   {
    "duration": 15,
    "start_time": "2024-09-20T04:18:33.069Z"
   },
   {
    "duration": 122,
    "start_time": "2024-09-20T04:18:33.086Z"
   },
   {
    "duration": 87,
    "start_time": "2024-09-20T04:18:33.223Z"
   },
   {
    "duration": 95,
    "start_time": "2024-09-20T04:18:33.313Z"
   },
   {
    "duration": 5,
    "start_time": "2024-09-20T04:18:33.424Z"
   },
   {
    "duration": 104,
    "start_time": "2024-09-20T04:18:33.431Z"
   },
   {
    "duration": 97,
    "start_time": "2024-09-20T04:18:33.537Z"
   },
   {
    "duration": 103,
    "start_time": "2024-09-20T04:18:33.636Z"
   },
   {
    "duration": 77,
    "start_time": "2024-09-20T04:21:09.357Z"
   },
   {
    "duration": 78,
    "start_time": "2024-09-20T04:21:23.170Z"
   },
   {
    "duration": 79,
    "start_time": "2024-09-20T04:21:34.196Z"
   },
   {
    "duration": 827,
    "start_time": "2024-09-20T04:22:28.373Z"
   },
   {
    "duration": 3,
    "start_time": "2024-09-20T04:22:29.202Z"
   },
   {
    "duration": 108,
    "start_time": "2024-09-20T04:22:29.206Z"
   },
   {
    "duration": 14,
    "start_time": "2024-09-20T04:22:29.316Z"
   },
   {
    "duration": 9,
    "start_time": "2024-09-20T04:22:29.331Z"
   },
   {
    "duration": 30,
    "start_time": "2024-09-20T04:22:29.341Z"
   },
   {
    "duration": 52,
    "start_time": "2024-09-20T04:22:29.372Z"
   },
   {
    "duration": 59,
    "start_time": "2024-09-20T04:22:29.427Z"
   },
   {
    "duration": 111,
    "start_time": "2024-09-20T04:22:29.487Z"
   },
   {
    "duration": 34,
    "start_time": "2024-09-20T04:22:29.602Z"
   },
   {
    "duration": 4,
    "start_time": "2024-09-20T04:22:29.638Z"
   },
   {
    "duration": 553,
    "start_time": "2024-09-20T04:22:29.644Z"
   },
   {
    "duration": 32,
    "start_time": "2024-09-20T04:22:30.199Z"
   },
   {
    "duration": 58,
    "start_time": "2024-09-20T04:22:30.232Z"
   },
   {
    "duration": 3,
    "start_time": "2024-09-20T04:22:30.292Z"
   },
   {
    "duration": 5,
    "start_time": "2024-09-20T04:22:30.297Z"
   },
   {
    "duration": 41,
    "start_time": "2024-09-20T04:22:30.304Z"
   },
   {
    "duration": 4,
    "start_time": "2024-09-20T04:22:30.346Z"
   },
   {
    "duration": 28,
    "start_time": "2024-09-20T04:22:30.352Z"
   },
   {
    "duration": 7,
    "start_time": "2024-09-20T04:22:30.381Z"
   },
   {
    "duration": 3,
    "start_time": "2024-09-20T04:22:30.390Z"
   },
   {
    "duration": 41,
    "start_time": "2024-09-20T04:22:30.395Z"
   },
   {
    "duration": 4,
    "start_time": "2024-09-20T04:22:30.438Z"
   },
   {
    "duration": 2,
    "start_time": "2024-09-20T04:22:30.444Z"
   },
   {
    "duration": 13,
    "start_time": "2024-09-20T04:22:30.448Z"
   },
   {
    "duration": 106,
    "start_time": "2024-09-20T04:22:30.462Z"
   },
   {
    "duration": 95,
    "start_time": "2024-09-20T04:22:30.570Z"
   },
   {
    "duration": 97,
    "start_time": "2024-09-20T04:22:30.668Z"
   },
   {
    "duration": 4,
    "start_time": "2024-09-20T04:22:30.767Z"
   },
   {
    "duration": 96,
    "start_time": "2024-09-20T04:22:30.773Z"
   },
   {
    "duration": 91,
    "start_time": "2024-09-20T04:22:30.870Z"
   },
   {
    "duration": 93,
    "start_time": "2024-09-20T04:22:30.963Z"
   },
   {
    "duration": 800,
    "start_time": "2024-09-20T04:33:05.071Z"
   },
   {
    "duration": 3,
    "start_time": "2024-09-20T04:33:05.873Z"
   },
   {
    "duration": 110,
    "start_time": "2024-09-20T04:33:05.877Z"
   },
   {
    "duration": 10,
    "start_time": "2024-09-20T04:33:05.989Z"
   },
   {
    "duration": 8,
    "start_time": "2024-09-20T04:33:06.000Z"
   },
   {
    "duration": 30,
    "start_time": "2024-09-20T04:33:06.024Z"
   },
   {
    "duration": 31,
    "start_time": "2024-09-20T04:33:06.056Z"
   },
   {
    "duration": 74,
    "start_time": "2024-09-20T04:33:06.089Z"
   },
   {
    "duration": 113,
    "start_time": "2024-09-20T04:33:06.165Z"
   },
   {
    "duration": 25,
    "start_time": "2024-09-20T04:33:06.282Z"
   },
   {
    "duration": 3,
    "start_time": "2024-09-20T04:33:06.309Z"
   },
   {
    "duration": 600,
    "start_time": "2024-09-20T04:33:06.313Z"
   },
   {
    "duration": 31,
    "start_time": "2024-09-20T04:33:06.915Z"
   },
   {
    "duration": 58,
    "start_time": "2024-09-20T04:33:06.948Z"
   },
   {
    "duration": 16,
    "start_time": "2024-09-20T04:33:07.008Z"
   },
   {
    "duration": 5,
    "start_time": "2024-09-20T04:33:07.026Z"
   },
   {
    "duration": 24,
    "start_time": "2024-09-20T04:33:07.032Z"
   },
   {
    "duration": 4,
    "start_time": "2024-09-20T04:33:07.058Z"
   },
   {
    "duration": 27,
    "start_time": "2024-09-20T04:33:07.063Z"
   },
   {
    "duration": 36,
    "start_time": "2024-09-20T04:33:07.092Z"
   },
   {
    "duration": 3,
    "start_time": "2024-09-20T04:33:07.129Z"
   },
   {
    "duration": 17,
    "start_time": "2024-09-20T04:33:07.134Z"
   },
   {
    "duration": 5,
    "start_time": "2024-09-20T04:33:07.153Z"
   },
   {
    "duration": 3,
    "start_time": "2024-09-20T04:33:07.159Z"
   },
   {
    "duration": 14,
    "start_time": "2024-09-20T04:33:07.163Z"
   },
   {
    "duration": 115,
    "start_time": "2024-09-20T04:33:07.179Z"
   },
   {
    "duration": 95,
    "start_time": "2024-09-20T04:33:07.296Z"
   },
   {
    "duration": 99,
    "start_time": "2024-09-20T04:33:07.395Z"
   },
   {
    "duration": 5,
    "start_time": "2024-09-20T04:33:07.496Z"
   },
   {
    "duration": 121,
    "start_time": "2024-09-20T04:33:07.503Z"
   },
   {
    "duration": 82,
    "start_time": "2024-09-20T04:33:07.626Z"
   },
   {
    "duration": 99,
    "start_time": "2024-09-20T04:33:07.725Z"
   },
   {
    "duration": 791,
    "start_time": "2024-09-20T04:50:27.684Z"
   },
   {
    "duration": 2,
    "start_time": "2024-09-20T04:50:28.478Z"
   },
   {
    "duration": 115,
    "start_time": "2024-09-20T04:50:28.482Z"
   },
   {
    "duration": 9,
    "start_time": "2024-09-20T04:50:28.598Z"
   },
   {
    "duration": 17,
    "start_time": "2024-09-20T04:50:28.609Z"
   },
   {
    "duration": 31,
    "start_time": "2024-09-20T04:50:28.628Z"
   },
   {
    "duration": 33,
    "start_time": "2024-09-20T04:50:28.661Z"
   },
   {
    "duration": 88,
    "start_time": "2024-09-20T04:50:28.695Z"
   },
   {
    "duration": 112,
    "start_time": "2024-09-20T04:50:28.785Z"
   },
   {
    "duration": 33,
    "start_time": "2024-09-20T04:50:28.899Z"
   },
   {
    "duration": 4,
    "start_time": "2024-09-20T04:50:28.933Z"
   },
   {
    "duration": 564,
    "start_time": "2024-09-20T04:50:28.938Z"
   },
   {
    "duration": 28,
    "start_time": "2024-09-20T04:50:29.504Z"
   },
   {
    "duration": 68,
    "start_time": "2024-09-20T04:50:29.536Z"
   },
   {
    "duration": 3,
    "start_time": "2024-09-20T04:50:29.606Z"
   },
   {
    "duration": 16,
    "start_time": "2024-09-20T04:50:29.610Z"
   },
   {
    "duration": 24,
    "start_time": "2024-09-20T04:50:29.628Z"
   },
   {
    "duration": 4,
    "start_time": "2024-09-20T04:50:29.654Z"
   },
   {
    "duration": 26,
    "start_time": "2024-09-20T04:50:29.660Z"
   },
   {
    "duration": 37,
    "start_time": "2024-09-20T04:50:29.688Z"
   },
   {
    "duration": 3,
    "start_time": "2024-09-20T04:50:29.727Z"
   },
   {
    "duration": 15,
    "start_time": "2024-09-20T04:50:29.731Z"
   },
   {
    "duration": 4,
    "start_time": "2024-09-20T04:50:29.749Z"
   },
   {
    "duration": 2,
    "start_time": "2024-09-20T04:50:29.755Z"
   },
   {
    "duration": 13,
    "start_time": "2024-09-20T04:50:29.759Z"
   },
   {
    "duration": 116,
    "start_time": "2024-09-20T04:50:29.774Z"
   },
   {
    "duration": 95,
    "start_time": "2024-09-20T04:50:29.892Z"
   },
   {
    "duration": 95,
    "start_time": "2024-09-20T04:50:29.989Z"
   },
   {
    "duration": 5,
    "start_time": "2024-09-20T04:50:30.086Z"
   },
   {
    "duration": 100,
    "start_time": "2024-09-20T04:50:30.093Z"
   },
   {
    "duration": 95,
    "start_time": "2024-09-20T04:50:30.195Z"
   },
   {
    "duration": 95,
    "start_time": "2024-09-20T04:50:30.291Z"
   },
   {
    "duration": 800,
    "start_time": "2024-09-20T04:52:59.401Z"
   },
   {
    "duration": 2,
    "start_time": "2024-09-20T04:53:00.204Z"
   },
   {
    "duration": 105,
    "start_time": "2024-09-20T04:53:00.208Z"
   },
   {
    "duration": 9,
    "start_time": "2024-09-20T04:53:00.323Z"
   },
   {
    "duration": 8,
    "start_time": "2024-09-20T04:53:00.334Z"
   },
   {
    "duration": 31,
    "start_time": "2024-09-20T04:53:00.343Z"
   },
   {
    "duration": 53,
    "start_time": "2024-09-20T04:53:00.375Z"
   },
   {
    "duration": 57,
    "start_time": "2024-09-20T04:53:00.430Z"
   },
   {
    "duration": 116,
    "start_time": "2024-09-20T04:53:00.488Z"
   },
   {
    "duration": 31,
    "start_time": "2024-09-20T04:53:00.607Z"
   },
   {
    "duration": 3,
    "start_time": "2024-09-20T04:53:00.640Z"
   },
   {
    "duration": 581,
    "start_time": "2024-09-20T04:53:00.645Z"
   },
   {
    "duration": 24,
    "start_time": "2024-09-20T04:53:01.228Z"
   },
   {
    "duration": 73,
    "start_time": "2024-09-20T04:53:01.254Z"
   },
   {
    "duration": 4,
    "start_time": "2024-09-20T04:53:01.329Z"
   },
   {
    "duration": 5,
    "start_time": "2024-09-20T04:53:01.334Z"
   },
   {
    "duration": 22,
    "start_time": "2024-09-20T04:53:01.341Z"
   },
   {
    "duration": 4,
    "start_time": "2024-09-20T04:53:01.364Z"
   },
   {
    "duration": 28,
    "start_time": "2024-09-20T04:53:01.370Z"
   },
   {
    "duration": 8,
    "start_time": "2024-09-20T04:53:01.424Z"
   },
   {
    "duration": 3,
    "start_time": "2024-09-20T04:53:01.433Z"
   },
   {
    "duration": 15,
    "start_time": "2024-09-20T04:53:01.437Z"
   },
   {
    "duration": 5,
    "start_time": "2024-09-20T04:53:01.454Z"
   },
   {
    "duration": 3,
    "start_time": "2024-09-20T04:53:01.460Z"
   },
   {
    "duration": 13,
    "start_time": "2024-09-20T04:53:01.465Z"
   },
   {
    "duration": 115,
    "start_time": "2024-09-20T04:53:01.480Z"
   },
   {
    "duration": 107,
    "start_time": "2024-09-20T04:53:01.597Z"
   },
   {
    "duration": 92,
    "start_time": "2024-09-20T04:53:01.708Z"
   },
   {
    "duration": 25,
    "start_time": "2024-09-20T04:53:01.802Z"
   },
   {
    "duration": 78,
    "start_time": "2024-09-20T04:53:01.828Z"
   },
   {
    "duration": 93,
    "start_time": "2024-09-20T04:53:01.908Z"
   },
   {
    "duration": 99,
    "start_time": "2024-09-20T04:53:02.003Z"
   },
   {
    "duration": 8,
    "start_time": "2024-09-21T00:17:18.038Z"
   }
  ],
  "kernelspec": {
   "display_name": "Python 3 (ipykernel)",
   "language": "python",
   "name": "python3"
  },
  "language_info": {
   "codemirror_mode": {
    "name": "ipython",
    "version": 3
   },
   "file_extension": ".py",
   "mimetype": "text/x-python",
   "name": "python",
   "nbconvert_exporter": "python",
   "pygments_lexer": "ipython3",
   "version": "3.9.19"
  },
  "toc": {
   "base_numbering": 1,
   "nav_menu": {},
   "number_sections": true,
   "sideBar": true,
   "skip_h1_title": true,
   "title_cell": "Table of Contents",
   "title_sidebar": "Contents",
   "toc_cell": false,
   "toc_position": {},
   "toc_section_display": true,
   "toc_window_display": false
  }
 },
 "nbformat": 4,
 "nbformat_minor": 2
}
